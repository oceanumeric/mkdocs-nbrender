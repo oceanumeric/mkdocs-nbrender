{
 "cells": [
  {
   "cell_type": "code",
   "execution_count": 1,
   "metadata": {},
   "outputs": [],
   "source": [
    "import os\n",
    "import json"
   ]
  },
  {
   "cell_type": "code",
   "execution_count": 13,
   "metadata": {},
   "outputs": [],
   "source": [
    "# one cannot read itself.ipynb \n",
    "nb_json = None\n",
    "with open('mynb.ipynb', 'r') as f:\n",
    "    nb_json = json.load(f)"
   ]
  },
  {
   "cell_type": "code",
   "execution_count": 20,
   "metadata": {},
   "outputs": [
    {
     "data": {
      "text/plain": [
       "dict_keys(['cells', 'metadata', 'nbformat', 'nbformat_minor'])"
      ]
     },
     "execution_count": 20,
     "metadata": {},
     "output_type": "execute_result"
    }
   ],
   "source": [
    "nb_json.keys()"
   ]
  },
  {
   "cell_type": "code",
   "execution_count": 22,
   "metadata": {},
   "outputs": [
    {
     "data": {
      "text/plain": [
       "{'kernelspec': {'display_name': \"Python 3.9.5 ('myvenv': venv)\",\n",
       "  'language': 'python',\n",
       "  'name': 'python3'},\n",
       " 'language_info': {'codemirror_mode': {'name': 'ipython', 'version': 3},\n",
       "  'file_extension': '.py',\n",
       "  'mimetype': 'text/x-python',\n",
       "  'name': 'python',\n",
       "  'nbconvert_exporter': 'python',\n",
       "  'pygments_lexer': 'ipython3',\n",
       "  'version': '3.9.5'},\n",
       " 'vscode': {'interpreter': {'hash': '4a3c54eb17980b08ca07e25221d4c9ce63fd03d61d790ff7fad827bf918d92f1'}}}"
      ]
     },
     "execution_count": 22,
     "metadata": {},
     "output_type": "execute_result"
    }
   ],
   "source": [
    "nb_json['metadata']"
   ]
  },
  {
   "cell_type": "code",
   "execution_count": 26,
   "metadata": {},
   "outputs": [],
   "source": [
    "nb_cells = nb_json['cells']"
   ]
  },
  {
   "cell_type": "code",
   "execution_count": 27,
   "metadata": {},
   "outputs": [
    {
     "data": {
      "text/plain": [
       "{'cell_type': 'markdown',\n",
       " 'metadata': {},\n",
       " 'source': ['# My Jupyter notebook \\n',\n",
       "  '\\n',\n",
       "  '\\n',\n",
       "  'Suppose you want to customize your jupyter notebook with your personal style, such as LaTex style. You can just edit your css file and add a header into the first markdown cell of your jupyter notebook. Here is an example I used for my jupyter notebook. Inline code, `print(1+2)`. 50$ is not lots of money. Inline math $ x$ 50$ and $50-x haha$ji\\n',\n",
       "  '\\n',\n",
       "  'How about 54$ and 76$ and $78 and $$89\\n',\n",
       "  '\\n',\n",
       "  '<math xmlns=\"http://www.w3.org/1998/Math/MathML\" display=\"block\" alttext=\"E = mc^2\">\\n',\n",
       "  '  <mi>E</mi>\\n',\n",
       "  '  <mo>=</mo>\\n',\n",
       "  '  <mi>m</mi>\\n',\n",
       "  '  <msup>\\n',\n",
       "  '    <mi>c</mi>\\n',\n",
       "  '    <mn>2</mn>\\n',\n",
       "  '  </msup>\\n',\n",
       "  '</math>\\n',\n",
       "  '\\n',\n",
       "  '- this is list 1\\n',\n",
       "  '- this is list 2 ']}"
      ]
     },
     "execution_count": 27,
     "metadata": {},
     "output_type": "execute_result"
    }
   ],
   "source": [
    "nb_cells[0]"
   ]
  },
  {
   "cell_type": "code",
   "execution_count": null,
   "metadata": {},
   "outputs": [],
   "source": []
  }
 ],
 "metadata": {
  "kernelspec": {
   "display_name": "Python 3.9.5 ('myvenv': venv)",
   "language": "python",
   "name": "python3"
  },
  "language_info": {
   "codemirror_mode": {
    "name": "ipython",
    "version": 3
   },
   "file_extension": ".py",
   "mimetype": "text/x-python",
   "name": "python",
   "nbconvert_exporter": "python",
   "pygments_lexer": "ipython3",
   "version": "3.9.5"
  },
  "orig_nbformat": 4,
  "vscode": {
   "interpreter": {
    "hash": "4a3c54eb17980b08ca07e25221d4c9ce63fd03d61d790ff7fad827bf918d92f1"
   }
  }
 },
 "nbformat": 4,
 "nbformat_minor": 2
}

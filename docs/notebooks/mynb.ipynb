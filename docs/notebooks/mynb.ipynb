{
 "cells": [
  {
   "cell_type": "markdown",
   "metadata": {},
   "source": [
    "# My Jupyter notebook \n",
    "\n",
    "\n",
    "Suppose you want to customize your jupyter notebook with your personal style, such as LaTex style. You can just edit your css file and add a header into the first markdown cell of your jupyter notebook. Here is an example I used for my jupyter notebook."
   ]
  },
  {
   "cell_type": "code",
   "execution_count": 7,
   "metadata": {},
   "outputs": [
    {
     "data": {
      "application/javascript": "console.log('hello, world')\n",
      "text/plain": [
       "<IPython.core.display.Javascript object>"
      ]
     },
     "metadata": {},
     "output_type": "display_data"
    }
   ],
   "source": [
    "%%javascript\n",
    "console.log('hello, world')"
   ]
  },
  {
   "cell_type": "markdown",
   "metadata": {},
   "source": [
    "## Math Jax3\n",
    "\n",
    "A random variable $X$ is continuous if its distribution function $F(X) = P(X \\leq x)$ can be written as\n",
    "\n",
    "$$F(X) = \\int_x^\\infty f(u) du$$\n",
    "\n",
    "for some integrable $f:R \\to [0, \\infty)$. The function  is called the probability density function of the continuous random variable . For instance, the probability density function of the normal distribution is\n",
    "\n",
    "\n",
    "$$\n",
    "\\begin{bmatrix} y_1 \\\\ y_2 \\\\ \\vdots \\\\ y_t \\\\ \\vdots \\\\ y_N \\end{bmatrix} = \\begin{bmatrix} 1 & x_{12} & \\cdots & x_{1k} \\\\ 1 & x_{22} & \\cdots & x_{2k} \\\\ \\vdots & \\vdots & \\vdots \\\\ 1 & x_{t2} & \\cdots & x_{tk} \\\\ \\vdots & \\vdots & \\vdots \\\\ 1 & x_{N2} & \\cdots & x_{Nk} \\end{bmatrix} \\begin{bmatrix} \\beta_1 \\\\ \\beta_2 \\\\ \\vdots \\\\ \\beta_t \\\\ \\vdots \\\\ \\beta_k \\end{bmatrix} + \\begin{bmatrix} u_1 \\\\ u_2 \\\\ \\vdots \\\\ u_t \\\\ \\vdots \\\\ u_N \\end{bmatrix}\n",
    "$$"
   ]
  },
  {
   "cell_type": "markdown",
   "metadata": {},
   "source": [
    "\n",
    "$$\n",
    "\\begin{bmatrix} y_1 \\\\ y_2 \\\\ \\vdots \\\\ y_t \\\\ \\vdots \\\\ y_N \\end{bmatrix} = \\begin{bmatrix} 1 & x_{12} & \\cdots & x_{1k} \\\\ 1 & x_{22} & \\cdots & x_{2k} \\\\ \\vdots & \\vdots & \\vdots \\\\ 1 & x_{t2} & \\cdots & x_{tk} \\\\ \\vdots & \\vdots & \\vdots \\\\ 1 & x_{N2} & \\cdots & x_{Nk} \\end{bmatrix} \\begin{bmatrix} \\beta_1 \\\\ \\beta_2 \\\\ \\vdots \\\\ \\beta_t \\\\ \\vdots \\\\ \\beta_k \\end{bmatrix} + \\begin{bmatrix} u_1 \\\\ u_2 \\\\ \\vdots \\\\ u_t \\\\ \\vdots \\\\ u_N \\end{bmatrix}\n",
    "$$"
   ]
  },
  {
   "cell_type": "code",
   "execution_count": 6,
   "metadata": {},
   "outputs": [
    {
     "name": "stdout",
     "output_type": "stream",
     "text": [
      "3\n"
     ]
    }
   ],
   "source": [
    "print(1+2)"
   ]
  },
  {
   "cell_type": "markdown",
   "metadata": {},
   "source": [
    "\n",
    "\\begin{aligned} \n",
    "\\text{Pr}(G=1|X=x) &= \\frac{\\exp(\\beta_0+\\beta^Tx)}{1+\\exp(\\beta_0+\\beta^Tx)},\\\\ \n",
    "\\text{Pr}(G=2|X=x) &= \\frac{1}{1+\\exp(\\beta_0+\\beta^Tx)},\n",
    "\\end{aligned}\n",
    "\n",
    "\\begin{equation} \\hat{\\mathbf{Y}} = \\mathbf{X}\\left(\\mathbf{X}^T\\mathbf{X}\\right)^{-1}\\mathbf{X}^T\\mathbf{Y} = \\mathbf{X}\\hat{\\mathbf{B}}. \\end{equation}\n"
   ]
  },
  {
   "cell_type": "markdown",
   "metadata": {},
   "source": []
  },
  {
   "cell_type": "code",
   "execution_count": 1,
   "metadata": {},
   "outputs": [],
   "source": [
    "# make sure you have installed numpy and matplotlib \n",
    "import numpy as np \n",
    "import pandas as pd\n",
    "import matplotlib.pyplot as plt\n",
    "%matplotlib inline\n",
    "%config InlineBackend.figure_format = 'svg'"
   ]
  },
  {
   "cell_type": "code",
   "execution_count": 2,
   "metadata": {},
   "outputs": [
    {
     "data": {
      "image/svg+xml": "<?xml version=\"1.0\" encoding=\"utf-8\" standalone=\"no\"?>\n<!DOCTYPE svg PUBLIC \"-//W3C//DTD SVG 1.1//EN\"\n  \"http://www.w3.org/Graphics/SVG/1.1/DTD/svg11.dtd\">\n<svg xmlns:xlink=\"http://www.w3.org/1999/xlink\" width=\"405pt\" height=\"236.16pt\" viewBox=\"0 0 405 236.16\" xmlns=\"http://www.w3.org/2000/svg\" version=\"1.1\">\n <metadata>\n  <rdf:RDF xmlns:dc=\"http://purl.org/dc/elements/1.1/\" xmlns:cc=\"http://creativecommons.org/ns#\" xmlns:rdf=\"http://www.w3.org/1999/02/22-rdf-syntax-ns#\">\n   <cc:Work>\n    <dc:type rdf:resource=\"http://purl.org/dc/dcmitype/StillImage\"/>\n    <dc:date>2022-11-09T17:24:55.632201</dc:date>\n    <dc:format>image/svg+xml</dc:format>\n    <dc:creator>\n     <cc:Agent>\n      <dc:title>Matplotlib v3.6.2, https://matplotlib.org/</dc:title>\n     </cc:Agent>\n    </dc:creator>\n   </cc:Work>\n  </rdf:RDF>\n </metadata>\n <defs>\n  <style type=\"text/css\">*{stroke-linejoin: round; stroke-linecap: butt}</style>\n </defs>\n <g id=\"figure_1\">\n  <g id=\"patch_1\">\n   <path d=\"M 0 236.16 \nL 405 236.16 \nL 405 0 \nL 0 0 \nz\n\" style=\"fill: #ffffff\"/>\n  </g>\n  <g id=\"axes_1\">\n   <g id=\"patch_2\">\n    <path d=\"M 7.2 228.96 \nL 397.8 228.96 \nL 397.8 7.2 \nL 7.2 7.2 \nz\n\" style=\"fill: #ffffff\"/>\n   </g>\n   <g id=\"matplotlib.axis_1\">\n    <g id=\"xtick_1\">\n     <g id=\"line2d_1\">\n      <path d=\"M 46.26 228.96 \nL 46.26 7.2 \n\" clip-path=\"url(#p798fa79cba)\" style=\"fill: none; stroke: #b0b0b0; stroke-width: 0.8; stroke-linecap: square\"/>\n     </g>\n     <g id=\"line2d_2\">\n      <defs>\n       <path id=\"mf37356257b\" d=\"M 0 0 \nL 0 3.5 \n\" style=\"stroke: #000000; stroke-width: 0.8\"/>\n      </defs>\n      <g>\n       <use xlink:href=\"#mf37356257b\" x=\"46.26\" y=\"118.08\" style=\"stroke: #000000; stroke-width: 0.8\"/>\n      </g>\n     </g>\n     <g id=\"text_1\">\n      <!-- −4 -->\n      <g transform=\"translate(38.888906 132.678438) scale(0.1 -0.1)\">\n       <defs>\n        <path id=\"DejaVuSans-2212\" d=\"M 678 2272 \nL 4684 2272 \nL 4684 1741 \nL 678 1741 \nL 678 2272 \nz\n\" transform=\"scale(0.015625)\"/>\n        <path id=\"DejaVuSans-34\" d=\"M 2419 4116 \nL 825 1625 \nL 2419 1625 \nL 2419 4116 \nz\nM 2253 4666 \nL 3047 4666 \nL 3047 1625 \nL 3713 1625 \nL 3713 1100 \nL 3047 1100 \nL 3047 0 \nL 2419 0 \nL 2419 1100 \nL 313 1100 \nL 313 1709 \nL 2253 4666 \nz\n\" transform=\"scale(0.015625)\"/>\n       </defs>\n       <use xlink:href=\"#DejaVuSans-2212\"/>\n       <use xlink:href=\"#DejaVuSans-34\" x=\"83.789062\"/>\n      </g>\n     </g>\n    </g>\n    <g id=\"xtick_2\">\n     <g id=\"line2d_3\">\n      <path d=\"M 124.38 228.96 \nL 124.38 7.2 \n\" clip-path=\"url(#p798fa79cba)\" style=\"fill: none; stroke: #b0b0b0; stroke-width: 0.8; stroke-linecap: square\"/>\n     </g>\n     <g id=\"line2d_4\">\n      <g>\n       <use xlink:href=\"#mf37356257b\" x=\"124.38\" y=\"118.08\" style=\"stroke: #000000; stroke-width: 0.8\"/>\n      </g>\n     </g>\n     <g id=\"text_2\">\n      <!-- −2 -->\n      <g transform=\"translate(117.008906 132.678438) scale(0.1 -0.1)\">\n       <defs>\n        <path id=\"DejaVuSans-32\" d=\"M 1228 531 \nL 3431 531 \nL 3431 0 \nL 469 0 \nL 469 531 \nQ 828 903 1448 1529 \nQ 2069 2156 2228 2338 \nQ 2531 2678 2651 2914 \nQ 2772 3150 2772 3378 \nQ 2772 3750 2511 3984 \nQ 2250 4219 1831 4219 \nQ 1534 4219 1204 4116 \nQ 875 4013 500 3803 \nL 500 4441 \nQ 881 4594 1212 4672 \nQ 1544 4750 1819 4750 \nQ 2544 4750 2975 4387 \nQ 3406 4025 3406 3419 \nQ 3406 3131 3298 2873 \nQ 3191 2616 2906 2266 \nQ 2828 2175 2409 1742 \nQ 1991 1309 1228 531 \nz\n\" transform=\"scale(0.015625)\"/>\n       </defs>\n       <use xlink:href=\"#DejaVuSans-2212\"/>\n       <use xlink:href=\"#DejaVuSans-32\" x=\"83.789062\"/>\n      </g>\n     </g>\n    </g>\n    <g id=\"xtick_3\">\n     <g id=\"line2d_5\">\n      <path d=\"M 202.5 228.96 \nL 202.5 7.2 \n\" clip-path=\"url(#p798fa79cba)\" style=\"fill: none; stroke: #b0b0b0; stroke-width: 0.8; stroke-linecap: square\"/>\n     </g>\n     <g id=\"line2d_6\">\n      <g>\n       <use xlink:href=\"#mf37356257b\" x=\"202.5\" y=\"118.08\" style=\"stroke: #000000; stroke-width: 0.8\"/>\n      </g>\n     </g>\n     <g id=\"text_3\">\n      <!-- 0 -->\n      <g transform=\"translate(199.31875 132.678438) scale(0.1 -0.1)\">\n       <defs>\n        <path id=\"DejaVuSans-30\" d=\"M 2034 4250 \nQ 1547 4250 1301 3770 \nQ 1056 3291 1056 2328 \nQ 1056 1369 1301 889 \nQ 1547 409 2034 409 \nQ 2525 409 2770 889 \nQ 3016 1369 3016 2328 \nQ 3016 3291 2770 3770 \nQ 2525 4250 2034 4250 \nz\nM 2034 4750 \nQ 2819 4750 3233 4129 \nQ 3647 3509 3647 2328 \nQ 3647 1150 3233 529 \nQ 2819 -91 2034 -91 \nQ 1250 -91 836 529 \nQ 422 1150 422 2328 \nQ 422 3509 836 4129 \nQ 1250 4750 2034 4750 \nz\n\" transform=\"scale(0.015625)\"/>\n       </defs>\n       <use xlink:href=\"#DejaVuSans-30\"/>\n      </g>\n     </g>\n    </g>\n    <g id=\"xtick_4\">\n     <g id=\"line2d_7\">\n      <path d=\"M 280.62 228.96 \nL 280.62 7.2 \n\" clip-path=\"url(#p798fa79cba)\" style=\"fill: none; stroke: #b0b0b0; stroke-width: 0.8; stroke-linecap: square\"/>\n     </g>\n     <g id=\"line2d_8\">\n      <g>\n       <use xlink:href=\"#mf37356257b\" x=\"280.62\" y=\"118.08\" style=\"stroke: #000000; stroke-width: 0.8\"/>\n      </g>\n     </g>\n     <g id=\"text_4\">\n      <!-- 2 -->\n      <g transform=\"translate(277.43875 132.678438) scale(0.1 -0.1)\">\n       <use xlink:href=\"#DejaVuSans-32\"/>\n      </g>\n     </g>\n    </g>\n    <g id=\"xtick_5\">\n     <g id=\"line2d_9\">\n      <path d=\"M 358.74 228.96 \nL 358.74 7.2 \n\" clip-path=\"url(#p798fa79cba)\" style=\"fill: none; stroke: #b0b0b0; stroke-width: 0.8; stroke-linecap: square\"/>\n     </g>\n     <g id=\"line2d_10\">\n      <g>\n       <use xlink:href=\"#mf37356257b\" x=\"358.74\" y=\"118.08\" style=\"stroke: #000000; stroke-width: 0.8\"/>\n      </g>\n     </g>\n     <g id=\"text_5\">\n      <!-- 4 -->\n      <g transform=\"translate(355.55875 132.678438) scale(0.1 -0.1)\">\n       <use xlink:href=\"#DejaVuSans-34\"/>\n      </g>\n     </g>\n    </g>\n   </g>\n   <g id=\"matplotlib.axis_2\">\n    <g id=\"ytick_1\">\n     <g id=\"line2d_11\">\n      <path d=\"M 7.2 206.784 \nL 397.8 206.784 \n\" clip-path=\"url(#p798fa79cba)\" style=\"fill: none; stroke: #b0b0b0; stroke-width: 0.8; stroke-linecap: square\"/>\n     </g>\n     <g id=\"line2d_12\">\n      <defs>\n       <path id=\"m3094272693\" d=\"M 0 0 \nL -3.5 0 \n\" style=\"stroke: #000000; stroke-width: 0.8\"/>\n      </defs>\n      <g>\n       <use xlink:href=\"#m3094272693\" x=\"202.5\" y=\"206.784\" style=\"stroke: #000000; stroke-width: 0.8\"/>\n      </g>\n     </g>\n     <g id=\"text_6\">\n      <!-- −4 -->\n      <g transform=\"translate(180.757812 210.583219) scale(0.1 -0.1)\">\n       <use xlink:href=\"#DejaVuSans-2212\"/>\n       <use xlink:href=\"#DejaVuSans-34\" x=\"83.789062\"/>\n      </g>\n     </g>\n    </g>\n    <g id=\"ytick_2\">\n     <g id=\"line2d_13\">\n      <path d=\"M 7.2 162.432 \nL 397.8 162.432 \n\" clip-path=\"url(#p798fa79cba)\" style=\"fill: none; stroke: #b0b0b0; stroke-width: 0.8; stroke-linecap: square\"/>\n     </g>\n     <g id=\"line2d_14\">\n      <g>\n       <use xlink:href=\"#m3094272693\" x=\"202.5\" y=\"162.432\" style=\"stroke: #000000; stroke-width: 0.8\"/>\n      </g>\n     </g>\n     <g id=\"text_7\">\n      <!-- −2 -->\n      <g transform=\"translate(180.757812 166.231219) scale(0.1 -0.1)\">\n       <use xlink:href=\"#DejaVuSans-2212\"/>\n       <use xlink:href=\"#DejaVuSans-32\" x=\"83.789062\"/>\n      </g>\n     </g>\n    </g>\n    <g id=\"ytick_3\">\n     <g id=\"line2d_15\">\n      <path d=\"M 7.2 118.08 \nL 397.8 118.08 \n\" clip-path=\"url(#p798fa79cba)\" style=\"fill: none; stroke: #b0b0b0; stroke-width: 0.8; stroke-linecap: square\"/>\n     </g>\n     <g id=\"line2d_16\">\n      <g>\n       <use xlink:href=\"#m3094272693\" x=\"202.5\" y=\"118.08\" style=\"stroke: #000000; stroke-width: 0.8\"/>\n      </g>\n     </g>\n     <g id=\"text_8\">\n      <!-- 0 -->\n      <g transform=\"translate(189.1375 121.879219) scale(0.1 -0.1)\">\n       <use xlink:href=\"#DejaVuSans-30\"/>\n      </g>\n     </g>\n    </g>\n    <g id=\"ytick_4\">\n     <g id=\"line2d_17\">\n      <path d=\"M 7.2 73.728 \nL 397.8 73.728 \n\" clip-path=\"url(#p798fa79cba)\" style=\"fill: none; stroke: #b0b0b0; stroke-width: 0.8; stroke-linecap: square\"/>\n     </g>\n     <g id=\"line2d_18\">\n      <g>\n       <use xlink:href=\"#m3094272693\" x=\"202.5\" y=\"73.728\" style=\"stroke: #000000; stroke-width: 0.8\"/>\n      </g>\n     </g>\n     <g id=\"text_9\">\n      <!-- 2 -->\n      <g transform=\"translate(189.1375 77.527219) scale(0.1 -0.1)\">\n       <use xlink:href=\"#DejaVuSans-32\"/>\n      </g>\n     </g>\n    </g>\n    <g id=\"ytick_5\">\n     <g id=\"line2d_19\">\n      <path d=\"M 7.2 29.376 \nL 397.8 29.376 \n\" clip-path=\"url(#p798fa79cba)\" style=\"fill: none; stroke: #b0b0b0; stroke-width: 0.8; stroke-linecap: square\"/>\n     </g>\n     <g id=\"line2d_20\">\n      <g>\n       <use xlink:href=\"#m3094272693\" x=\"202.5\" y=\"29.376\" style=\"stroke: #000000; stroke-width: 0.8\"/>\n      </g>\n     </g>\n     <g id=\"text_10\">\n      <!-- 4 -->\n      <g transform=\"translate(189.1375 33.175219) scale(0.1 -0.1)\">\n       <use xlink:href=\"#DejaVuSans-34\"/>\n      </g>\n     </g>\n    </g>\n   </g>\n   <g id=\"patch_3\">\n    <path d=\"M 202.5 228.96 \nL 202.5 7.2 \n\" style=\"fill: none; stroke: #000000; stroke-width: 0.8; stroke-linejoin: miter; stroke-linecap: square\"/>\n   </g>\n   <g id=\"patch_4\">\n    <path d=\"M 397.8 228.96 \nL 397.8 7.2 \n\" style=\"fill: none\"/>\n   </g>\n   <g id=\"patch_5\">\n    <path d=\"M 7.2 118.08 \nL 397.8 118.08 \n\" style=\"fill: none; stroke: #000000; stroke-width: 0.8; stroke-linejoin: miter; stroke-linecap: square\"/>\n   </g>\n   <g id=\"patch_6\">\n    <path d=\"M 7.2 7.2 \nL 397.8 7.2 \n\" style=\"fill: none\"/>\n   </g>\n   <g id=\"patch_7\">\n    <path d=\"M 202.312385 117.914771 \nQ 237.406546 78.065917 272.500707 38.217064 \nL 268.185563 34.416796 \nQ 274.402782 31.896398 280.62 29.376 \nQ 278.90554 35.861895 277.19108 42.34779 \nL 272.875936 38.547522 \nQ 237.781776 78.396376 202.687615 118.245229 \nL 202.312385 117.914771 \nz\n\" style=\"fill: #0000ff; opacity: 0.7; stroke: #000000; stroke-linecap: round\"/>\n   </g>\n   <g id=\"text_11\">\n    <!-- (2, 4) -->\n    <g transform=\"translate(288.432 20.5056) scale(0.1 -0.1)\">\n     <defs>\n      <path id=\"DejaVuSans-28\" d=\"M 1984 4856 \nQ 1566 4138 1362 3434 \nQ 1159 2731 1159 2009 \nQ 1159 1288 1364 580 \nQ 1569 -128 1984 -844 \nL 1484 -844 \nQ 1016 -109 783 600 \nQ 550 1309 550 2009 \nQ 550 2706 781 3412 \nQ 1013 4119 1484 4856 \nL 1984 4856 \nz\n\" transform=\"scale(0.015625)\"/>\n      <path id=\"DejaVuSans-2c\" d=\"M 750 794 \nL 1409 794 \nL 1409 256 \nL 897 -744 \nL 494 -744 \nL 750 256 \nL 750 794 \nz\n\" transform=\"scale(0.015625)\"/>\n      <path id=\"DejaVuSans-20\" transform=\"scale(0.015625)\"/>\n      <path id=\"DejaVuSans-29\" d=\"M 513 4856 \nL 1013 4856 \nQ 1481 4119 1714 3412 \nQ 1947 2706 1947 2009 \nQ 1947 1309 1714 600 \nQ 1481 -109 1013 -844 \nL 513 -844 \nQ 928 -128 1133 580 \nQ 1338 1288 1338 2009 \nQ 1338 2731 1133 3434 \nQ 928 4138 513 4856 \nz\n\" transform=\"scale(0.015625)\"/>\n     </defs>\n     <use xlink:href=\"#DejaVuSans-28\"/>\n     <use xlink:href=\"#DejaVuSans-32\" x=\"39.013672\"/>\n     <use xlink:href=\"#DejaVuSans-2c\" x=\"102.636719\"/>\n     <use xlink:href=\"#DejaVuSans-20\" x=\"134.423828\"/>\n     <use xlink:href=\"#DejaVuSans-34\" x=\"166.210938\"/>\n     <use xlink:href=\"#DejaVuSans-29\" x=\"229.833984\"/>\n    </g>\n   </g>\n   <g id=\"patch_8\">\n    <path d=\"M 202.37657 118.297405 \nQ 149.005815 87.996589 95.635059 57.695773 \nL 92.796168 62.696093 \nQ 89.058084 57.124047 85.32 51.552 \nQ 92.020405 51.906322 98.720811 52.260643 \nL 95.881919 57.260963 \nQ 149.252675 87.561779 202.62343 117.862595 \nL 202.37657 118.297405 \nz\n\" style=\"fill: #0000ff; opacity: 0.7; stroke: #000000; stroke-linecap: round\"/>\n   </g>\n   <g id=\"text_12\">\n    <!-- (-3, 3) -->\n    <g transform=\"translate(73.602 44.8992) scale(0.1 -0.1)\">\n     <defs>\n      <path id=\"DejaVuSans-2d\" d=\"M 313 2009 \nL 1997 2009 \nL 1997 1497 \nL 313 1497 \nL 313 2009 \nz\n\" transform=\"scale(0.015625)\"/>\n      <path id=\"DejaVuSans-33\" d=\"M 2597 2516 \nQ 3050 2419 3304 2112 \nQ 3559 1806 3559 1356 \nQ 3559 666 3084 287 \nQ 2609 -91 1734 -91 \nQ 1441 -91 1130 -33 \nQ 819 25 488 141 \nL 488 750 \nQ 750 597 1062 519 \nQ 1375 441 1716 441 \nQ 2309 441 2620 675 \nQ 2931 909 2931 1356 \nQ 2931 1769 2642 2001 \nQ 2353 2234 1838 2234 \nL 1294 2234 \nL 1294 2753 \nL 1863 2753 \nQ 2328 2753 2575 2939 \nQ 2822 3125 2822 3475 \nQ 2822 3834 2567 4026 \nQ 2313 4219 1838 4219 \nQ 1578 4219 1281 4162 \nQ 984 4106 628 3988 \nL 628 4550 \nQ 988 4650 1302 4700 \nQ 1616 4750 1894 4750 \nQ 2613 4750 3031 4423 \nQ 3450 4097 3450 3541 \nQ 3450 3153 3228 2886 \nQ 3006 2619 2597 2516 \nz\n\" transform=\"scale(0.015625)\"/>\n     </defs>\n     <use xlink:href=\"#DejaVuSans-28\"/>\n     <use xlink:href=\"#DejaVuSans-2d\" x=\"39.013672\"/>\n     <use xlink:href=\"#DejaVuSans-33\" x=\"75.097656\"/>\n     <use xlink:href=\"#DejaVuSans-2c\" x=\"138.720703\"/>\n     <use xlink:href=\"#DejaVuSans-20\" x=\"170.507812\"/>\n     <use xlink:href=\"#DejaVuSans-33\" x=\"202.294922\"/>\n     <use xlink:href=\"#DejaVuSans-29\" x=\"265.917969\"/>\n    </g>\n   </g>\n   <g id=\"patch_9\">\n    <path d=\"M 202.611225 118.303895 \nQ 129.863644 154.443016 57.116063 190.582137 \nL 59.674243 195.731721 \nQ 52.967122 195.71386 46.26 195.696 \nQ 50.297716 190.340382 54.335432 184.984763 \nL 56.893612 190.134347 \nQ 129.641194 153.995226 202.388775 117.856105 \nL 202.611225 118.303895 \nz\n\" style=\"fill: #0000ff; opacity: 0.7; stroke: #000000; stroke-linecap: round\"/>\n   </g>\n   <g id=\"text_13\">\n    <!-- (-4, -3.5) -->\n    <g transform=\"translate(30.636 203.4576) scale(0.1 -0.1)\">\n     <defs>\n      <path id=\"DejaVuSans-2e\" d=\"M 684 794 \nL 1344 794 \nL 1344 0 \nL 684 0 \nL 684 794 \nz\n\" transform=\"scale(0.015625)\"/>\n      <path id=\"DejaVuSans-35\" d=\"M 691 4666 \nL 3169 4666 \nL 3169 4134 \nL 1269 4134 \nL 1269 2991 \nQ 1406 3038 1543 3061 \nQ 1681 3084 1819 3084 \nQ 2600 3084 3056 2656 \nQ 3513 2228 3513 1497 \nQ 3513 744 3044 326 \nQ 2575 -91 1722 -91 \nQ 1428 -91 1123 -41 \nQ 819 9 494 109 \nL 494 744 \nQ 775 591 1075 516 \nQ 1375 441 1709 441 \nQ 2250 441 2565 725 \nQ 2881 1009 2881 1497 \nQ 2881 1984 2565 2268 \nQ 2250 2553 1709 2553 \nQ 1456 2553 1204 2497 \nQ 953 2441 691 2322 \nL 691 4666 \nz\n\" transform=\"scale(0.015625)\"/>\n     </defs>\n     <use xlink:href=\"#DejaVuSans-28\"/>\n     <use xlink:href=\"#DejaVuSans-2d\" x=\"39.013672\"/>\n     <use xlink:href=\"#DejaVuSans-34\" x=\"75.097656\"/>\n     <use xlink:href=\"#DejaVuSans-2c\" x=\"138.720703\"/>\n     <use xlink:href=\"#DejaVuSans-20\" x=\"170.507812\"/>\n     <use xlink:href=\"#DejaVuSans-2d\" x=\"202.294922\"/>\n     <use xlink:href=\"#DejaVuSans-33\" x=\"238.378906\"/>\n     <use xlink:href=\"#DejaVuSans-2e\" x=\"302.001953\"/>\n     <use xlink:href=\"#DejaVuSans-35\" x=\"333.789062\"/>\n     <use xlink:href=\"#DejaVuSans-29\" x=\"397.412109\"/>\n    </g>\n   </g>\n  </g>\n </g>\n <defs>\n  <clipPath id=\"p798fa79cba\">\n   <rect x=\"7.2\" y=\"7.2\" width=\"390.6\" height=\"221.76\"/>\n  </clipPath>\n </defs>\n</svg>\n",
      "text/plain": [
       "<Figure size 700x400 with 1 Axes>"
      ]
     },
     "metadata": {},
     "output_type": "display_data"
    }
   ],
   "source": [
    "# plot vectors\n",
    "fig, ax = plt.subplots(figsize=(7, 4))\n",
    "for spine in ['left', 'bottom']:\n",
    "    ax.spines[spine].set_position('zero')\n",
    "for spine in ['right', 'top']:\n",
    "    ax.spines[spine].set_color('none')\n",
    "ax.set(xlim=(-5, 5), ylim=(-5, 5))\n",
    "ax.grid()\n",
    "vecs = ((2, 4), (-3, 3), (-4, -3.5))\n",
    "for v in vecs:\n",
    "    ax.annotate('', xy=v, xytext=(0, 0),\n",
    "                arrowprops=dict(facecolor='blue',\n",
    "                                shrink=0,\n",
    "                                alpha=0.7,\n",
    "                                width=0.5))\n",
    "     # add text, ax.test(postion-x, postion-y, test-string) \n",
    "    ax.text(1.1 * v[0], 1.1 * v[1], str(v))"
   ]
  },
  {
   "cell_type": "code",
   "execution_count": 3,
   "metadata": {},
   "outputs": [
    {
     "data": {
      "text/html": [
       "<div>\n",
       "<style scoped>\n",
       "    .dataframe tbody tr th:only-of-type {\n",
       "        vertical-align: middle;\n",
       "    }\n",
       "\n",
       "    .dataframe tbody tr th {\n",
       "        vertical-align: top;\n",
       "    }\n",
       "\n",
       "    .dataframe thead th {\n",
       "        text-align: right;\n",
       "    }\n",
       "</style>\n",
       "<table border=\"1\" class=\"dataframe\">\n",
       "  <thead>\n",
       "    <tr style=\"text-align: right;\">\n",
       "      <th></th>\n",
       "      <th>sepal_length</th>\n",
       "      <th>sepal_width</th>\n",
       "      <th>petal_length</th>\n",
       "      <th>petal_width</th>\n",
       "      <th>species</th>\n",
       "    </tr>\n",
       "  </thead>\n",
       "  <tbody>\n",
       "    <tr>\n",
       "      <th>0</th>\n",
       "      <td>5.1</td>\n",
       "      <td>3.5</td>\n",
       "      <td>1.4</td>\n",
       "      <td>0.2</td>\n",
       "      <td>setosa</td>\n",
       "    </tr>\n",
       "    <tr>\n",
       "      <th>1</th>\n",
       "      <td>4.9</td>\n",
       "      <td>3.0</td>\n",
       "      <td>1.4</td>\n",
       "      <td>0.2</td>\n",
       "      <td>setosa</td>\n",
       "    </tr>\n",
       "    <tr>\n",
       "      <th>2</th>\n",
       "      <td>4.7</td>\n",
       "      <td>3.2</td>\n",
       "      <td>1.3</td>\n",
       "      <td>0.2</td>\n",
       "      <td>setosa</td>\n",
       "    </tr>\n",
       "    <tr>\n",
       "      <th>3</th>\n",
       "      <td>4.6</td>\n",
       "      <td>3.1</td>\n",
       "      <td>1.5</td>\n",
       "      <td>0.2</td>\n",
       "      <td>setosa</td>\n",
       "    </tr>\n",
       "    <tr>\n",
       "      <th>4</th>\n",
       "      <td>5.0</td>\n",
       "      <td>3.6</td>\n",
       "      <td>1.4</td>\n",
       "      <td>0.2</td>\n",
       "      <td>setosa</td>\n",
       "    </tr>\n",
       "  </tbody>\n",
       "</table>\n",
       "</div>"
      ],
      "text/plain": [
       "   sepal_length  sepal_width  petal_length  petal_width species\n",
       "0           5.1          3.5           1.4          0.2  setosa\n",
       "1           4.9          3.0           1.4          0.2  setosa\n",
       "2           4.7          3.2           1.3          0.2  setosa\n",
       "3           4.6          3.1           1.5          0.2  setosa\n",
       "4           5.0          3.6           1.4          0.2  setosa"
      ]
     },
     "execution_count": 3,
     "metadata": {},
     "output_type": "execute_result"
    }
   ],
   "source": [
    "import seaborn as sns\n",
    "\n",
    "iris = sns.load_dataset('iris')\n",
    "iris.head()"
   ]
  },
  {
   "cell_type": "code",
   "execution_count": 4,
   "metadata": {},
   "outputs": [
    {
     "data": {
      "image/svg+xml": "<?xml version=\"1.0\" encoding=\"utf-8\" standalone=\"no\"?>\n<!DOCTYPE svg PUBLIC \"-//W3C//DTD SVG 1.1//EN\"\n  \"http://www.w3.org/Graphics/SVG/1.1/DTD/svg11.dtd\">\n<svg xmlns:xlink=\"http://www.w3.org/1999/xlink\" width=\"409.116392pt\" height=\"312.929594pt\" viewBox=\"0 0 409.116392 312.929594\" xmlns=\"http://www.w3.org/2000/svg\" version=\"1.1\">\n <metadata>\n  <rdf:RDF xmlns:dc=\"http://purl.org/dc/elements/1.1/\" xmlns:cc=\"http://creativecommons.org/ns#\" xmlns:rdf=\"http://www.w3.org/1999/02/22-rdf-syntax-ns#\">\n   <cc:Work>\n    <dc:type rdf:resource=\"http://purl.org/dc/dcmitype/StillImage\"/>\n    <dc:date>2022-11-09T17:25:04.748123</dc:date>\n    <dc:format>image/svg+xml</dc:format>\n    <dc:creator>\n     <cc:Agent>\n      <dc:title>Matplotlib v3.6.2, https://matplotlib.org/</dc:title>\n     </cc:Agent>\n    </dc:creator>\n   </cc:Work>\n  </rdf:RDF>\n </metadata>\n <defs>\n  <style type=\"text/css\">*{stroke-linejoin: round; stroke-linecap: butt}</style>\n </defs>\n <g id=\"figure_1\">\n  <g id=\"patch_1\">\n   <path d=\"M 0 312.929594 \nL 409.116392 312.929594 \nL 409.116392 0 \nL 0 0 \nz\n\" style=\"fill: #ffffff\"/>\n  </g>\n  <g id=\"axes_1\">\n   <g id=\"patch_2\">\n    <path d=\"M 44.059375 275.095219 \nL 401.179375 275.095219 \nL 401.179375 8.983219 \nL 44.059375 8.983219 \nz\n\" style=\"fill: #ffffff\"/>\n   </g>\n   <g id=\"PathCollection_1\">\n    <defs>\n     <path id=\"m8e754d085d\" d=\"M 0 3 \nC 0.795609 3 1.55874 2.683901 2.12132 2.12132 \nC 2.683901 1.55874 3 0.795609 3 0 \nC 3 -0.795609 2.683901 -1.55874 2.12132 -2.12132 \nC 1.55874 -2.683901 0.795609 -3 0 -3 \nC -0.795609 -3 -1.55874 -2.683901 -2.12132 -2.12132 \nC -2.683901 -1.55874 -3 -0.795609 -3 0 \nC -3 0.795609 -2.683901 1.55874 -2.12132 2.12132 \nC -1.55874 2.683901 -0.795609 3 0 3 \nz\n\" style=\"stroke: #ffffff; stroke-width: 0.48\"/>\n    </defs>\n    <g clip-path=\"url(#pd3c6c2c55f)\">\n     <use xlink:href=\"#m8e754d085d\" x=\"132.437557\" y=\"111.799219\" style=\"fill: #1f77b4; stroke: #ffffff; stroke-width: 0.48\"/>\n     <use xlink:href=\"#m8e754d085d\" x=\"114.401193\" y=\"162.199219\" style=\"fill: #1f77b4; stroke: #ffffff; stroke-width: 0.48\"/>\n     <use xlink:href=\"#m8e754d085d\" x=\"96.36483\" y=\"142.039219\" style=\"fill: #1f77b4; stroke: #ffffff; stroke-width: 0.48\"/>\n     <use xlink:href=\"#m8e754d085d\" x=\"87.346648\" y=\"152.119219\" style=\"fill: #1f77b4; stroke: #ffffff; stroke-width: 0.48\"/>\n     <use xlink:href=\"#m8e754d085d\" x=\"123.419375\" y=\"101.719219\" style=\"fill: #1f77b4; stroke: #ffffff; stroke-width: 0.48\"/>\n     <use xlink:href=\"#m8e754d085d\" x=\"159.492102\" y=\"71.479219\" style=\"fill: #1f77b4; stroke: #ffffff; stroke-width: 0.48\"/>\n     <use xlink:href=\"#m8e754d085d\" x=\"87.346648\" y=\"121.879219\" style=\"fill: #1f77b4; stroke: #ffffff; stroke-width: 0.48\"/>\n     <use xlink:href=\"#m8e754d085d\" x=\"123.419375\" y=\"121.879219\" style=\"fill: #1f77b4; stroke: #ffffff; stroke-width: 0.48\"/>\n     <use xlink:href=\"#m8e754d085d\" x=\"69.310284\" y=\"172.279219\" style=\"fill: #1f77b4; stroke: #ffffff; stroke-width: 0.48\"/>\n     <use xlink:href=\"#m8e754d085d\" x=\"114.401193\" y=\"152.119219\" style=\"fill: #1f77b4; stroke: #ffffff; stroke-width: 0.48\"/>\n     <use xlink:href=\"#m8e754d085d\" x=\"159.492102\" y=\"91.639219\" style=\"fill: #1f77b4; stroke: #ffffff; stroke-width: 0.48\"/>\n     <use xlink:href=\"#m8e754d085d\" x=\"105.383011\" y=\"121.879219\" style=\"fill: #1f77b4; stroke: #ffffff; stroke-width: 0.48\"/>\n     <use xlink:href=\"#m8e754d085d\" x=\"105.383011\" y=\"162.199219\" style=\"fill: #1f77b4; stroke: #ffffff; stroke-width: 0.48\"/>\n     <use xlink:href=\"#m8e754d085d\" x=\"60.292102\" y=\"162.199219\" style=\"fill: #1f77b4; stroke: #ffffff; stroke-width: 0.48\"/>\n     <use xlink:href=\"#m8e754d085d\" x=\"195.56483\" y=\"61.399219\" style=\"fill: #1f77b4; stroke: #ffffff; stroke-width: 0.48\"/>\n     <use xlink:href=\"#m8e754d085d\" x=\"186.546648\" y=\"21.079219\" style=\"fill: #1f77b4; stroke: #ffffff; stroke-width: 0.48\"/>\n     <use xlink:href=\"#m8e754d085d\" x=\"159.492102\" y=\"71.479219\" style=\"fill: #1f77b4; stroke: #ffffff; stroke-width: 0.48\"/>\n     <use xlink:href=\"#m8e754d085d\" x=\"132.437557\" y=\"111.799219\" style=\"fill: #1f77b4; stroke: #ffffff; stroke-width: 0.48\"/>\n     <use xlink:href=\"#m8e754d085d\" x=\"186.546648\" y=\"81.559219\" style=\"fill: #1f77b4; stroke: #ffffff; stroke-width: 0.48\"/>\n     <use xlink:href=\"#m8e754d085d\" x=\"132.437557\" y=\"81.559219\" style=\"fill: #1f77b4; stroke: #ffffff; stroke-width: 0.48\"/>\n     <use xlink:href=\"#m8e754d085d\" x=\"159.492102\" y=\"121.879219\" style=\"fill: #1f77b4; stroke: #ffffff; stroke-width: 0.48\"/>\n     <use xlink:href=\"#m8e754d085d\" x=\"132.437557\" y=\"91.639219\" style=\"fill: #1f77b4; stroke: #ffffff; stroke-width: 0.48\"/>\n     <use xlink:href=\"#m8e754d085d\" x=\"87.346648\" y=\"101.719219\" style=\"fill: #1f77b4; stroke: #ffffff; stroke-width: 0.48\"/>\n     <use xlink:href=\"#m8e754d085d\" x=\"132.437557\" y=\"131.959219\" style=\"fill: #1f77b4; stroke: #ffffff; stroke-width: 0.48\"/>\n     <use xlink:href=\"#m8e754d085d\" x=\"105.383011\" y=\"121.879219\" style=\"fill: #1f77b4; stroke: #ffffff; stroke-width: 0.48\"/>\n     <use xlink:href=\"#m8e754d085d\" x=\"123.419375\" y=\"162.199219\" style=\"fill: #1f77b4; stroke: #ffffff; stroke-width: 0.48\"/>\n     <use xlink:href=\"#m8e754d085d\" x=\"123.419375\" y=\"121.879219\" style=\"fill: #1f77b4; stroke: #ffffff; stroke-width: 0.48\"/>\n     <use xlink:href=\"#m8e754d085d\" x=\"141.455739\" y=\"111.799219\" style=\"fill: #1f77b4; stroke: #ffffff; stroke-width: 0.48\"/>\n     <use xlink:href=\"#m8e754d085d\" x=\"141.455739\" y=\"121.879219\" style=\"fill: #1f77b4; stroke: #ffffff; stroke-width: 0.48\"/>\n     <use xlink:href=\"#m8e754d085d\" x=\"96.36483\" y=\"142.039219\" style=\"fill: #1f77b4; stroke: #ffffff; stroke-width: 0.48\"/>\n     <use xlink:href=\"#m8e754d085d\" x=\"105.383011\" y=\"152.119219\" style=\"fill: #1f77b4; stroke: #ffffff; stroke-width: 0.48\"/>\n     <use xlink:href=\"#m8e754d085d\" x=\"159.492102\" y=\"121.879219\" style=\"fill: #1f77b4; stroke: #ffffff; stroke-width: 0.48\"/>\n     <use xlink:href=\"#m8e754d085d\" x=\"141.455739\" y=\"51.319219\" style=\"fill: #1f77b4; stroke: #ffffff; stroke-width: 0.48\"/>\n     <use xlink:href=\"#m8e754d085d\" x=\"168.510284\" y=\"41.239219\" style=\"fill: #1f77b4; stroke: #ffffff; stroke-width: 0.48\"/>\n     <use xlink:href=\"#m8e754d085d\" x=\"114.401193\" y=\"152.119219\" style=\"fill: #1f77b4; stroke: #ffffff; stroke-width: 0.48\"/>\n     <use xlink:href=\"#m8e754d085d\" x=\"123.419375\" y=\"142.039219\" style=\"fill: #1f77b4; stroke: #ffffff; stroke-width: 0.48\"/>\n     <use xlink:href=\"#m8e754d085d\" x=\"168.510284\" y=\"111.799219\" style=\"fill: #1f77b4; stroke: #ffffff; stroke-width: 0.48\"/>\n     <use xlink:href=\"#m8e754d085d\" x=\"114.401193\" y=\"101.719219\" style=\"fill: #1f77b4; stroke: #ffffff; stroke-width: 0.48\"/>\n     <use xlink:href=\"#m8e754d085d\" x=\"69.310284\" y=\"162.199219\" style=\"fill: #1f77b4; stroke: #ffffff; stroke-width: 0.48\"/>\n     <use xlink:href=\"#m8e754d085d\" x=\"132.437557\" y=\"121.879219\" style=\"fill: #1f77b4; stroke: #ffffff; stroke-width: 0.48\"/>\n     <use xlink:href=\"#m8e754d085d\" x=\"123.419375\" y=\"111.799219\" style=\"fill: #1f77b4; stroke: #ffffff; stroke-width: 0.48\"/>\n     <use xlink:href=\"#m8e754d085d\" x=\"78.328466\" y=\"232.759219\" style=\"fill: #1f77b4; stroke: #ffffff; stroke-width: 0.48\"/>\n     <use xlink:href=\"#m8e754d085d\" x=\"69.310284\" y=\"142.039219\" style=\"fill: #1f77b4; stroke: #ffffff; stroke-width: 0.48\"/>\n     <use xlink:href=\"#m8e754d085d\" x=\"123.419375\" y=\"111.799219\" style=\"fill: #1f77b4; stroke: #ffffff; stroke-width: 0.48\"/>\n     <use xlink:href=\"#m8e754d085d\" x=\"132.437557\" y=\"81.559219\" style=\"fill: #1f77b4; stroke: #ffffff; stroke-width: 0.48\"/>\n     <use xlink:href=\"#m8e754d085d\" x=\"105.383011\" y=\"162.199219\" style=\"fill: #1f77b4; stroke: #ffffff; stroke-width: 0.48\"/>\n     <use xlink:href=\"#m8e754d085d\" x=\"132.437557\" y=\"81.559219\" style=\"fill: #1f77b4; stroke: #ffffff; stroke-width: 0.48\"/>\n     <use xlink:href=\"#m8e754d085d\" x=\"87.346648\" y=\"142.039219\" style=\"fill: #1f77b4; stroke: #ffffff; stroke-width: 0.48\"/>\n     <use xlink:href=\"#m8e754d085d\" x=\"150.47392\" y=\"91.639219\" style=\"fill: #1f77b4; stroke: #ffffff; stroke-width: 0.48\"/>\n     <use xlink:href=\"#m8e754d085d\" x=\"123.419375\" y=\"131.959219\" style=\"fill: #1f77b4; stroke: #ffffff; stroke-width: 0.48\"/>\n     <use xlink:href=\"#m8e754d085d\" x=\"303.783011\" y=\"142.039219\" style=\"fill: #1f77b4; stroke: #ffffff; stroke-width: 0.48\"/>\n     <use xlink:href=\"#m8e754d085d\" x=\"249.67392\" y=\"142.039219\" style=\"fill: #1f77b4; stroke: #ffffff; stroke-width: 0.48\"/>\n     <use xlink:href=\"#m8e754d085d\" x=\"294.76483\" y=\"152.119219\" style=\"fill: #1f77b4; stroke: #ffffff; stroke-width: 0.48\"/>\n     <use xlink:href=\"#m8e754d085d\" x=\"168.510284\" y=\"232.759219\" style=\"fill: #1f77b4; stroke: #ffffff; stroke-width: 0.48\"/>\n     <use xlink:href=\"#m8e754d085d\" x=\"258.692102\" y=\"182.359219\" style=\"fill: #1f77b4; stroke: #ffffff; stroke-width: 0.48\"/>\n     <use xlink:href=\"#m8e754d085d\" x=\"186.546648\" y=\"182.359219\" style=\"fill: #1f77b4; stroke: #ffffff; stroke-width: 0.48\"/>\n     <use xlink:href=\"#m8e754d085d\" x=\"240.655739\" y=\"131.959219\" style=\"fill: #1f77b4; stroke: #ffffff; stroke-width: 0.48\"/>\n     <use xlink:href=\"#m8e754d085d\" x=\"114.401193\" y=\"222.679219\" style=\"fill: #1f77b4; stroke: #ffffff; stroke-width: 0.48\"/>\n     <use xlink:href=\"#m8e754d085d\" x=\"267.710284\" y=\"172.279219\" style=\"fill: #1f77b4; stroke: #ffffff; stroke-width: 0.48\"/>\n     <use xlink:href=\"#m8e754d085d\" x=\"141.455739\" y=\"192.439219\" style=\"fill: #1f77b4; stroke: #ffffff; stroke-width: 0.48\"/>\n     <use xlink:href=\"#m8e754d085d\" x=\"123.419375\" y=\"262.999219\" style=\"fill: #1f77b4; stroke: #ffffff; stroke-width: 0.48\"/>\n     <use xlink:href=\"#m8e754d085d\" x=\"204.583011\" y=\"162.199219\" style=\"fill: #1f77b4; stroke: #ffffff; stroke-width: 0.48\"/>\n     <use xlink:href=\"#m8e754d085d\" x=\"213.601193\" y=\"242.839219\" style=\"fill: #1f77b4; stroke: #ffffff; stroke-width: 0.48\"/>\n     <use xlink:href=\"#m8e754d085d\" x=\"222.619375\" y=\"172.279219\" style=\"fill: #1f77b4; stroke: #ffffff; stroke-width: 0.48\"/>\n     <use xlink:href=\"#m8e754d085d\" x=\"177.528466\" y=\"172.279219\" style=\"fill: #1f77b4; stroke: #ffffff; stroke-width: 0.48\"/>\n     <use xlink:href=\"#m8e754d085d\" x=\"276.728466\" y=\"152.119219\" style=\"fill: #1f77b4; stroke: #ffffff; stroke-width: 0.48\"/>\n     <use xlink:href=\"#m8e754d085d\" x=\"177.528466\" y=\"162.199219\" style=\"fill: #1f77b4; stroke: #ffffff; stroke-width: 0.48\"/>\n     <use xlink:href=\"#m8e754d085d\" x=\"195.56483\" y=\"192.439219\" style=\"fill: #1f77b4; stroke: #ffffff; stroke-width: 0.48\"/>\n     <use xlink:href=\"#m8e754d085d\" x=\"231.637557\" y=\"242.839219\" style=\"fill: #1f77b4; stroke: #ffffff; stroke-width: 0.48\"/>\n     <use xlink:href=\"#m8e754d085d\" x=\"177.528466\" y=\"212.599219\" style=\"fill: #1f77b4; stroke: #ffffff; stroke-width: 0.48\"/>\n     <use xlink:href=\"#m8e754d085d\" x=\"204.583011\" y=\"142.039219\" style=\"fill: #1f77b4; stroke: #ffffff; stroke-width: 0.48\"/>\n     <use xlink:href=\"#m8e754d085d\" x=\"222.619375\" y=\"182.359219\" style=\"fill: #1f77b4; stroke: #ffffff; stroke-width: 0.48\"/>\n     <use xlink:href=\"#m8e754d085d\" x=\"240.655739\" y=\"212.599219\" style=\"fill: #1f77b4; stroke: #ffffff; stroke-width: 0.48\"/>\n     <use xlink:href=\"#m8e754d085d\" x=\"222.619375\" y=\"182.359219\" style=\"fill: #1f77b4; stroke: #ffffff; stroke-width: 0.48\"/>\n     <use xlink:href=\"#m8e754d085d\" x=\"249.67392\" y=\"172.279219\" style=\"fill: #1f77b4; stroke: #ffffff; stroke-width: 0.48\"/>\n     <use xlink:href=\"#m8e754d085d\" x=\"267.710284\" y=\"162.199219\" style=\"fill: #1f77b4; stroke: #ffffff; stroke-width: 0.48\"/>\n     <use xlink:href=\"#m8e754d085d\" x=\"285.746648\" y=\"182.359219\" style=\"fill: #1f77b4; stroke: #ffffff; stroke-width: 0.48\"/>\n     <use xlink:href=\"#m8e754d085d\" x=\"276.728466\" y=\"162.199219\" style=\"fill: #1f77b4; stroke: #ffffff; stroke-width: 0.48\"/>\n     <use xlink:href=\"#m8e754d085d\" x=\"213.601193\" y=\"172.279219\" style=\"fill: #1f77b4; stroke: #ffffff; stroke-width: 0.48\"/>\n     <use xlink:href=\"#m8e754d085d\" x=\"186.546648\" y=\"202.519219\" style=\"fill: #1f77b4; stroke: #ffffff; stroke-width: 0.48\"/>\n     <use xlink:href=\"#m8e754d085d\" x=\"168.510284\" y=\"222.679219\" style=\"fill: #1f77b4; stroke: #ffffff; stroke-width: 0.48\"/>\n     <use xlink:href=\"#m8e754d085d\" x=\"168.510284\" y=\"222.679219\" style=\"fill: #1f77b4; stroke: #ffffff; stroke-width: 0.48\"/>\n     <use xlink:href=\"#m8e754d085d\" x=\"195.56483\" y=\"192.439219\" style=\"fill: #1f77b4; stroke: #ffffff; stroke-width: 0.48\"/>\n     <use xlink:href=\"#m8e754d085d\" x=\"213.601193\" y=\"192.439219\" style=\"fill: #1f77b4; stroke: #ffffff; stroke-width: 0.48\"/>\n     <use xlink:href=\"#m8e754d085d\" x=\"159.492102\" y=\"162.199219\" style=\"fill: #1f77b4; stroke: #ffffff; stroke-width: 0.48\"/>\n     <use xlink:href=\"#m8e754d085d\" x=\"213.601193\" y=\"121.879219\" style=\"fill: #1f77b4; stroke: #ffffff; stroke-width: 0.48\"/>\n     <use xlink:href=\"#m8e754d085d\" x=\"276.728466\" y=\"152.119219\" style=\"fill: #1f77b4; stroke: #ffffff; stroke-width: 0.48\"/>\n     <use xlink:href=\"#m8e754d085d\" x=\"240.655739\" y=\"232.759219\" style=\"fill: #1f77b4; stroke: #ffffff; stroke-width: 0.48\"/>\n     <use xlink:href=\"#m8e754d085d\" x=\"177.528466\" y=\"162.199219\" style=\"fill: #1f77b4; stroke: #ffffff; stroke-width: 0.48\"/>\n     <use xlink:href=\"#m8e754d085d\" x=\"168.510284\" y=\"212.599219\" style=\"fill: #1f77b4; stroke: #ffffff; stroke-width: 0.48\"/>\n     <use xlink:href=\"#m8e754d085d\" x=\"168.510284\" y=\"202.519219\" style=\"fill: #1f77b4; stroke: #ffffff; stroke-width: 0.48\"/>\n     <use xlink:href=\"#m8e754d085d\" x=\"222.619375\" y=\"162.199219\" style=\"fill: #1f77b4; stroke: #ffffff; stroke-width: 0.48\"/>\n     <use xlink:href=\"#m8e754d085d\" x=\"195.56483\" y=\"202.519219\" style=\"fill: #1f77b4; stroke: #ffffff; stroke-width: 0.48\"/>\n     <use xlink:href=\"#m8e754d085d\" x=\"123.419375\" y=\"232.759219\" style=\"fill: #1f77b4; stroke: #ffffff; stroke-width: 0.48\"/>\n     <use xlink:href=\"#m8e754d085d\" x=\"177.528466\" y=\"192.439219\" style=\"fill: #1f77b4; stroke: #ffffff; stroke-width: 0.48\"/>\n     <use xlink:href=\"#m8e754d085d\" x=\"186.546648\" y=\"162.199219\" style=\"fill: #1f77b4; stroke: #ffffff; stroke-width: 0.48\"/>\n     <use xlink:href=\"#m8e754d085d\" x=\"186.546648\" y=\"172.279219\" style=\"fill: #1f77b4; stroke: #ffffff; stroke-width: 0.48\"/>\n     <use xlink:href=\"#m8e754d085d\" x=\"231.637557\" y=\"172.279219\" style=\"fill: #1f77b4; stroke: #ffffff; stroke-width: 0.48\"/>\n     <use xlink:href=\"#m8e754d085d\" x=\"132.437557\" y=\"212.599219\" style=\"fill: #1f77b4; stroke: #ffffff; stroke-width: 0.48\"/>\n     <use xlink:href=\"#m8e754d085d\" x=\"186.546648\" y=\"182.359219\" style=\"fill: #1f77b4; stroke: #ffffff; stroke-width: 0.48\"/>\n     <use xlink:href=\"#m8e754d085d\" x=\"240.655739\" y=\"131.959219\" style=\"fill: #1f77b4; stroke: #ffffff; stroke-width: 0.48\"/>\n     <use xlink:href=\"#m8e754d085d\" x=\"195.56483\" y=\"192.439219\" style=\"fill: #1f77b4; stroke: #ffffff; stroke-width: 0.48\"/>\n     <use xlink:href=\"#m8e754d085d\" x=\"312.801193\" y=\"162.199219\" style=\"fill: #1f77b4; stroke: #ffffff; stroke-width: 0.48\"/>\n     <use xlink:href=\"#m8e754d085d\" x=\"240.655739\" y=\"172.279219\" style=\"fill: #1f77b4; stroke: #ffffff; stroke-width: 0.48\"/>\n     <use xlink:href=\"#m8e754d085d\" x=\"258.692102\" y=\"162.199219\" style=\"fill: #1f77b4; stroke: #ffffff; stroke-width: 0.48\"/>\n     <use xlink:href=\"#m8e754d085d\" x=\"357.892102\" y=\"162.199219\" style=\"fill: #1f77b4; stroke: #ffffff; stroke-width: 0.48\"/>\n     <use xlink:href=\"#m8e754d085d\" x=\"114.401193\" y=\"212.599219\" style=\"fill: #1f77b4; stroke: #ffffff; stroke-width: 0.48\"/>\n     <use xlink:href=\"#m8e754d085d\" x=\"330.837557\" y=\"172.279219\" style=\"fill: #1f77b4; stroke: #ffffff; stroke-width: 0.48\"/>\n     <use xlink:href=\"#m8e754d085d\" x=\"276.728466\" y=\"212.599219\" style=\"fill: #1f77b4; stroke: #ffffff; stroke-width: 0.48\"/>\n     <use xlink:href=\"#m8e754d085d\" x=\"321.819375\" y=\"101.719219\" style=\"fill: #1f77b4; stroke: #ffffff; stroke-width: 0.48\"/>\n     <use xlink:href=\"#m8e754d085d\" x=\"258.692102\" y=\"142.039219\" style=\"fill: #1f77b4; stroke: #ffffff; stroke-width: 0.48\"/>\n     <use xlink:href=\"#m8e754d085d\" x=\"249.67392\" y=\"192.439219\" style=\"fill: #1f77b4; stroke: #ffffff; stroke-width: 0.48\"/>\n     <use xlink:href=\"#m8e754d085d\" x=\"285.746648\" y=\"162.199219\" style=\"fill: #1f77b4; stroke: #ffffff; stroke-width: 0.48\"/>\n     <use xlink:href=\"#m8e754d085d\" x=\"186.546648\" y=\"212.599219\" style=\"fill: #1f77b4; stroke: #ffffff; stroke-width: 0.48\"/>\n     <use xlink:href=\"#m8e754d085d\" x=\"195.56483\" y=\"182.359219\" style=\"fill: #1f77b4; stroke: #ffffff; stroke-width: 0.48\"/>\n     <use xlink:href=\"#m8e754d085d\" x=\"249.67392\" y=\"142.039219\" style=\"fill: #1f77b4; stroke: #ffffff; stroke-width: 0.48\"/>\n     <use xlink:href=\"#m8e754d085d\" x=\"258.692102\" y=\"162.199219\" style=\"fill: #1f77b4; stroke: #ffffff; stroke-width: 0.48\"/>\n     <use xlink:href=\"#m8e754d085d\" x=\"366.910284\" y=\"81.559219\" style=\"fill: #1f77b4; stroke: #ffffff; stroke-width: 0.48\"/>\n     <use xlink:href=\"#m8e754d085d\" x=\"366.910284\" y=\"202.519219\" style=\"fill: #1f77b4; stroke: #ffffff; stroke-width: 0.48\"/>\n     <use xlink:href=\"#m8e754d085d\" x=\"213.601193\" y=\"242.839219\" style=\"fill: #1f77b4; stroke: #ffffff; stroke-width: 0.48\"/>\n     <use xlink:href=\"#m8e754d085d\" x=\"294.76483\" y=\"142.039219\" style=\"fill: #1f77b4; stroke: #ffffff; stroke-width: 0.48\"/>\n     <use xlink:href=\"#m8e754d085d\" x=\"177.528466\" y=\"182.359219\" style=\"fill: #1f77b4; stroke: #ffffff; stroke-width: 0.48\"/>\n     <use xlink:href=\"#m8e754d085d\" x=\"366.910284\" y=\"182.359219\" style=\"fill: #1f77b4; stroke: #ffffff; stroke-width: 0.48\"/>\n     <use xlink:href=\"#m8e754d085d\" x=\"240.655739\" y=\"192.439219\" style=\"fill: #1f77b4; stroke: #ffffff; stroke-width: 0.48\"/>\n     <use xlink:href=\"#m8e754d085d\" x=\"276.728466\" y=\"131.959219\" style=\"fill: #1f77b4; stroke: #ffffff; stroke-width: 0.48\"/>\n     <use xlink:href=\"#m8e754d085d\" x=\"321.819375\" y=\"142.039219\" style=\"fill: #1f77b4; stroke: #ffffff; stroke-width: 0.48\"/>\n     <use xlink:href=\"#m8e754d085d\" x=\"231.637557\" y=\"182.359219\" style=\"fill: #1f77b4; stroke: #ffffff; stroke-width: 0.48\"/>\n     <use xlink:href=\"#m8e754d085d\" x=\"222.619375\" y=\"162.199219\" style=\"fill: #1f77b4; stroke: #ffffff; stroke-width: 0.48\"/>\n     <use xlink:href=\"#m8e754d085d\" x=\"249.67392\" y=\"182.359219\" style=\"fill: #1f77b4; stroke: #ffffff; stroke-width: 0.48\"/>\n     <use xlink:href=\"#m8e754d085d\" x=\"321.819375\" y=\"162.199219\" style=\"fill: #1f77b4; stroke: #ffffff; stroke-width: 0.48\"/>\n     <use xlink:href=\"#m8e754d085d\" x=\"339.855739\" y=\"182.359219\" style=\"fill: #1f77b4; stroke: #ffffff; stroke-width: 0.48\"/>\n     <use xlink:href=\"#m8e754d085d\" x=\"384.946648\" y=\"81.559219\" style=\"fill: #1f77b4; stroke: #ffffff; stroke-width: 0.48\"/>\n     <use xlink:href=\"#m8e754d085d\" x=\"249.67392\" y=\"182.359219\" style=\"fill: #1f77b4; stroke: #ffffff; stroke-width: 0.48\"/>\n     <use xlink:href=\"#m8e754d085d\" x=\"240.655739\" y=\"182.359219\" style=\"fill: #1f77b4; stroke: #ffffff; stroke-width: 0.48\"/>\n     <use xlink:href=\"#m8e754d085d\" x=\"222.619375\" y=\"202.519219\" style=\"fill: #1f77b4; stroke: #ffffff; stroke-width: 0.48\"/>\n     <use xlink:href=\"#m8e754d085d\" x=\"366.910284\" y=\"162.199219\" style=\"fill: #1f77b4; stroke: #ffffff; stroke-width: 0.48\"/>\n     <use xlink:href=\"#m8e754d085d\" x=\"240.655739\" y=\"121.879219\" style=\"fill: #1f77b4; stroke: #ffffff; stroke-width: 0.48\"/>\n     <use xlink:href=\"#m8e754d085d\" x=\"249.67392\" y=\"152.119219\" style=\"fill: #1f77b4; stroke: #ffffff; stroke-width: 0.48\"/>\n     <use xlink:href=\"#m8e754d085d\" x=\"213.601193\" y=\"162.199219\" style=\"fill: #1f77b4; stroke: #ffffff; stroke-width: 0.48\"/>\n     <use xlink:href=\"#m8e754d085d\" x=\"294.76483\" y=\"152.119219\" style=\"fill: #1f77b4; stroke: #ffffff; stroke-width: 0.48\"/>\n     <use xlink:href=\"#m8e754d085d\" x=\"276.728466\" y=\"152.119219\" style=\"fill: #1f77b4; stroke: #ffffff; stroke-width: 0.48\"/>\n     <use xlink:href=\"#m8e754d085d\" x=\"294.76483\" y=\"152.119219\" style=\"fill: #1f77b4; stroke: #ffffff; stroke-width: 0.48\"/>\n     <use xlink:href=\"#m8e754d085d\" x=\"195.56483\" y=\"192.439219\" style=\"fill: #1f77b4; stroke: #ffffff; stroke-width: 0.48\"/>\n     <use xlink:href=\"#m8e754d085d\" x=\"285.746648\" y=\"142.039219\" style=\"fill: #1f77b4; stroke: #ffffff; stroke-width: 0.48\"/>\n     <use xlink:href=\"#m8e754d085d\" x=\"276.728466\" y=\"131.959219\" style=\"fill: #1f77b4; stroke: #ffffff; stroke-width: 0.48\"/>\n     <use xlink:href=\"#m8e754d085d\" x=\"276.728466\" y=\"162.199219\" style=\"fill: #1f77b4; stroke: #ffffff; stroke-width: 0.48\"/>\n     <use xlink:href=\"#m8e754d085d\" x=\"240.655739\" y=\"212.599219\" style=\"fill: #1f77b4; stroke: #ffffff; stroke-width: 0.48\"/>\n     <use xlink:href=\"#m8e754d085d\" x=\"258.692102\" y=\"162.199219\" style=\"fill: #1f77b4; stroke: #ffffff; stroke-width: 0.48\"/>\n     <use xlink:href=\"#m8e754d085d\" x=\"231.637557\" y=\"121.879219\" style=\"fill: #1f77b4; stroke: #ffffff; stroke-width: 0.48\"/>\n     <use xlink:href=\"#m8e754d085d\" x=\"204.583011\" y=\"162.199219\" style=\"fill: #1f77b4; stroke: #ffffff; stroke-width: 0.48\"/>\n    </g>\n   </g>\n   <g id=\"matplotlib.axis_1\">\n    <g id=\"xtick_1\">\n     <g id=\"line2d_1\">\n      <defs>\n       <path id=\"m24a6717b9b\" d=\"M 0 0 \nL 0 3.5 \n\" style=\"stroke: #000000; stroke-width: 0.8\"/>\n      </defs>\n      <g>\n       <use xlink:href=\"#m24a6717b9b\" x=\"78.328466\" y=\"275.095219\" style=\"stroke: #000000; stroke-width: 0.8\"/>\n      </g>\n     </g>\n     <g id=\"text_1\">\n      <!-- 4.5 -->\n      <g transform=\"translate(70.376903 289.693656) scale(0.1 -0.1)\">\n       <defs>\n        <path id=\"DejaVuSans-34\" d=\"M 2419 4116 \nL 825 1625 \nL 2419 1625 \nL 2419 4116 \nz\nM 2253 4666 \nL 3047 4666 \nL 3047 1625 \nL 3713 1625 \nL 3713 1100 \nL 3047 1100 \nL 3047 0 \nL 2419 0 \nL 2419 1100 \nL 313 1100 \nL 313 1709 \nL 2253 4666 \nz\n\" transform=\"scale(0.015625)\"/>\n        <path id=\"DejaVuSans-2e\" d=\"M 684 794 \nL 1344 794 \nL 1344 0 \nL 684 0 \nL 684 794 \nz\n\" transform=\"scale(0.015625)\"/>\n        <path id=\"DejaVuSans-35\" d=\"M 691 4666 \nL 3169 4666 \nL 3169 4134 \nL 1269 4134 \nL 1269 2991 \nQ 1406 3038 1543 3061 \nQ 1681 3084 1819 3084 \nQ 2600 3084 3056 2656 \nQ 3513 2228 3513 1497 \nQ 3513 744 3044 326 \nQ 2575 -91 1722 -91 \nQ 1428 -91 1123 -41 \nQ 819 9 494 109 \nL 494 744 \nQ 775 591 1075 516 \nQ 1375 441 1709 441 \nQ 2250 441 2565 725 \nQ 2881 1009 2881 1497 \nQ 2881 1984 2565 2268 \nQ 2250 2553 1709 2553 \nQ 1456 2553 1204 2497 \nQ 953 2441 691 2322 \nL 691 4666 \nz\n\" transform=\"scale(0.015625)\"/>\n       </defs>\n       <use xlink:href=\"#DejaVuSans-34\"/>\n       <use xlink:href=\"#DejaVuSans-2e\" x=\"63.623047\"/>\n       <use xlink:href=\"#DejaVuSans-35\" x=\"95.410156\"/>\n      </g>\n     </g>\n    </g>\n    <g id=\"xtick_2\">\n     <g id=\"line2d_2\">\n      <g>\n       <use xlink:href=\"#m24a6717b9b\" x=\"123.419375\" y=\"275.095219\" style=\"stroke: #000000; stroke-width: 0.8\"/>\n      </g>\n     </g>\n     <g id=\"text_2\">\n      <!-- 5.0 -->\n      <g transform=\"translate(115.467813 289.693656) scale(0.1 -0.1)\">\n       <defs>\n        <path id=\"DejaVuSans-30\" d=\"M 2034 4250 \nQ 1547 4250 1301 3770 \nQ 1056 3291 1056 2328 \nQ 1056 1369 1301 889 \nQ 1547 409 2034 409 \nQ 2525 409 2770 889 \nQ 3016 1369 3016 2328 \nQ 3016 3291 2770 3770 \nQ 2525 4250 2034 4250 \nz\nM 2034 4750 \nQ 2819 4750 3233 4129 \nQ 3647 3509 3647 2328 \nQ 3647 1150 3233 529 \nQ 2819 -91 2034 -91 \nQ 1250 -91 836 529 \nQ 422 1150 422 2328 \nQ 422 3509 836 4129 \nQ 1250 4750 2034 4750 \nz\n\" transform=\"scale(0.015625)\"/>\n       </defs>\n       <use xlink:href=\"#DejaVuSans-35\"/>\n       <use xlink:href=\"#DejaVuSans-2e\" x=\"63.623047\"/>\n       <use xlink:href=\"#DejaVuSans-30\" x=\"95.410156\"/>\n      </g>\n     </g>\n    </g>\n    <g id=\"xtick_3\">\n     <g id=\"line2d_3\">\n      <g>\n       <use xlink:href=\"#m24a6717b9b\" x=\"168.510284\" y=\"275.095219\" style=\"stroke: #000000; stroke-width: 0.8\"/>\n      </g>\n     </g>\n     <g id=\"text_3\">\n      <!-- 5.5 -->\n      <g transform=\"translate(160.558722 289.693656) scale(0.1 -0.1)\">\n       <use xlink:href=\"#DejaVuSans-35\"/>\n       <use xlink:href=\"#DejaVuSans-2e\" x=\"63.623047\"/>\n       <use xlink:href=\"#DejaVuSans-35\" x=\"95.410156\"/>\n      </g>\n     </g>\n    </g>\n    <g id=\"xtick_4\">\n     <g id=\"line2d_4\">\n      <g>\n       <use xlink:href=\"#m24a6717b9b\" x=\"213.601193\" y=\"275.095219\" style=\"stroke: #000000; stroke-width: 0.8\"/>\n      </g>\n     </g>\n     <g id=\"text_4\">\n      <!-- 6.0 -->\n      <g transform=\"translate(205.649631 289.693656) scale(0.1 -0.1)\">\n       <defs>\n        <path id=\"DejaVuSans-36\" d=\"M 2113 2584 \nQ 1688 2584 1439 2293 \nQ 1191 2003 1191 1497 \nQ 1191 994 1439 701 \nQ 1688 409 2113 409 \nQ 2538 409 2786 701 \nQ 3034 994 3034 1497 \nQ 3034 2003 2786 2293 \nQ 2538 2584 2113 2584 \nz\nM 3366 4563 \nL 3366 3988 \nQ 3128 4100 2886 4159 \nQ 2644 4219 2406 4219 \nQ 1781 4219 1451 3797 \nQ 1122 3375 1075 2522 \nQ 1259 2794 1537 2939 \nQ 1816 3084 2150 3084 \nQ 2853 3084 3261 2657 \nQ 3669 2231 3669 1497 \nQ 3669 778 3244 343 \nQ 2819 -91 2113 -91 \nQ 1303 -91 875 529 \nQ 447 1150 447 2328 \nQ 447 3434 972 4092 \nQ 1497 4750 2381 4750 \nQ 2619 4750 2861 4703 \nQ 3103 4656 3366 4563 \nz\n\" transform=\"scale(0.015625)\"/>\n       </defs>\n       <use xlink:href=\"#DejaVuSans-36\"/>\n       <use xlink:href=\"#DejaVuSans-2e\" x=\"63.623047\"/>\n       <use xlink:href=\"#DejaVuSans-30\" x=\"95.410156\"/>\n      </g>\n     </g>\n    </g>\n    <g id=\"xtick_5\">\n     <g id=\"line2d_5\">\n      <g>\n       <use xlink:href=\"#m24a6717b9b\" x=\"258.692102\" y=\"275.095219\" style=\"stroke: #000000; stroke-width: 0.8\"/>\n      </g>\n     </g>\n     <g id=\"text_5\">\n      <!-- 6.5 -->\n      <g transform=\"translate(250.74054 289.693656) scale(0.1 -0.1)\">\n       <use xlink:href=\"#DejaVuSans-36\"/>\n       <use xlink:href=\"#DejaVuSans-2e\" x=\"63.623047\"/>\n       <use xlink:href=\"#DejaVuSans-35\" x=\"95.410156\"/>\n      </g>\n     </g>\n    </g>\n    <g id=\"xtick_6\">\n     <g id=\"line2d_6\">\n      <g>\n       <use xlink:href=\"#m24a6717b9b\" x=\"303.783011\" y=\"275.095219\" style=\"stroke: #000000; stroke-width: 0.8\"/>\n      </g>\n     </g>\n     <g id=\"text_6\">\n      <!-- 7.0 -->\n      <g transform=\"translate(295.831449 289.693656) scale(0.1 -0.1)\">\n       <defs>\n        <path id=\"DejaVuSans-37\" d=\"M 525 4666 \nL 3525 4666 \nL 3525 4397 \nL 1831 0 \nL 1172 0 \nL 2766 4134 \nL 525 4134 \nL 525 4666 \nz\n\" transform=\"scale(0.015625)\"/>\n       </defs>\n       <use xlink:href=\"#DejaVuSans-37\"/>\n       <use xlink:href=\"#DejaVuSans-2e\" x=\"63.623047\"/>\n       <use xlink:href=\"#DejaVuSans-30\" x=\"95.410156\"/>\n      </g>\n     </g>\n    </g>\n    <g id=\"xtick_7\">\n     <g id=\"line2d_7\">\n      <g>\n       <use xlink:href=\"#m24a6717b9b\" x=\"348.87392\" y=\"275.095219\" style=\"stroke: #000000; stroke-width: 0.8\"/>\n      </g>\n     </g>\n     <g id=\"text_7\">\n      <!-- 7.5 -->\n      <g transform=\"translate(340.922358 289.693656) scale(0.1 -0.1)\">\n       <use xlink:href=\"#DejaVuSans-37\"/>\n       <use xlink:href=\"#DejaVuSans-2e\" x=\"63.623047\"/>\n       <use xlink:href=\"#DejaVuSans-35\" x=\"95.410156\"/>\n      </g>\n     </g>\n    </g>\n    <g id=\"xtick_8\">\n     <g id=\"line2d_8\">\n      <g>\n       <use xlink:href=\"#m24a6717b9b\" x=\"393.96483\" y=\"275.095219\" style=\"stroke: #000000; stroke-width: 0.8\"/>\n      </g>\n     </g>\n     <g id=\"text_8\">\n      <!-- 8.0 -->\n      <g transform=\"translate(386.013267 289.693656) scale(0.1 -0.1)\">\n       <defs>\n        <path id=\"DejaVuSans-38\" d=\"M 2034 2216 \nQ 1584 2216 1326 1975 \nQ 1069 1734 1069 1313 \nQ 1069 891 1326 650 \nQ 1584 409 2034 409 \nQ 2484 409 2743 651 \nQ 3003 894 3003 1313 \nQ 3003 1734 2745 1975 \nQ 2488 2216 2034 2216 \nz\nM 1403 2484 \nQ 997 2584 770 2862 \nQ 544 3141 544 3541 \nQ 544 4100 942 4425 \nQ 1341 4750 2034 4750 \nQ 2731 4750 3128 4425 \nQ 3525 4100 3525 3541 \nQ 3525 3141 3298 2862 \nQ 3072 2584 2669 2484 \nQ 3125 2378 3379 2068 \nQ 3634 1759 3634 1313 \nQ 3634 634 3220 271 \nQ 2806 -91 2034 -91 \nQ 1263 -91 848 271 \nQ 434 634 434 1313 \nQ 434 1759 690 2068 \nQ 947 2378 1403 2484 \nz\nM 1172 3481 \nQ 1172 3119 1398 2916 \nQ 1625 2713 2034 2713 \nQ 2441 2713 2670 2916 \nQ 2900 3119 2900 3481 \nQ 2900 3844 2670 4047 \nQ 2441 4250 2034 4250 \nQ 1625 4250 1398 4047 \nQ 1172 3844 1172 3481 \nz\n\" transform=\"scale(0.015625)\"/>\n       </defs>\n       <use xlink:href=\"#DejaVuSans-38\"/>\n       <use xlink:href=\"#DejaVuSans-2e\" x=\"63.623047\"/>\n       <use xlink:href=\"#DejaVuSans-30\" x=\"95.410156\"/>\n      </g>\n     </g>\n    </g>\n    <g id=\"text_9\">\n     <!-- sepal_length -->\n     <g transform=\"translate(190.873281 303.371781) scale(0.1 -0.1)\">\n      <defs>\n       <path id=\"DejaVuSans-73\" d=\"M 2834 3397 \nL 2834 2853 \nQ 2591 2978 2328 3040 \nQ 2066 3103 1784 3103 \nQ 1356 3103 1142 2972 \nQ 928 2841 928 2578 \nQ 928 2378 1081 2264 \nQ 1234 2150 1697 2047 \nL 1894 2003 \nQ 2506 1872 2764 1633 \nQ 3022 1394 3022 966 \nQ 3022 478 2636 193 \nQ 2250 -91 1575 -91 \nQ 1294 -91 989 -36 \nQ 684 19 347 128 \nL 347 722 \nQ 666 556 975 473 \nQ 1284 391 1588 391 \nQ 1994 391 2212 530 \nQ 2431 669 2431 922 \nQ 2431 1156 2273 1281 \nQ 2116 1406 1581 1522 \nL 1381 1569 \nQ 847 1681 609 1914 \nQ 372 2147 372 2553 \nQ 372 3047 722 3315 \nQ 1072 3584 1716 3584 \nQ 2034 3584 2315 3537 \nQ 2597 3491 2834 3397 \nz\n\" transform=\"scale(0.015625)\"/>\n       <path id=\"DejaVuSans-65\" d=\"M 3597 1894 \nL 3597 1613 \nL 953 1613 \nQ 991 1019 1311 708 \nQ 1631 397 2203 397 \nQ 2534 397 2845 478 \nQ 3156 559 3463 722 \nL 3463 178 \nQ 3153 47 2828 -22 \nQ 2503 -91 2169 -91 \nQ 1331 -91 842 396 \nQ 353 884 353 1716 \nQ 353 2575 817 3079 \nQ 1281 3584 2069 3584 \nQ 2775 3584 3186 3129 \nQ 3597 2675 3597 1894 \nz\nM 3022 2063 \nQ 3016 2534 2758 2815 \nQ 2500 3097 2075 3097 \nQ 1594 3097 1305 2825 \nQ 1016 2553 972 2059 \nL 3022 2063 \nz\n\" transform=\"scale(0.015625)\"/>\n       <path id=\"DejaVuSans-70\" d=\"M 1159 525 \nL 1159 -1331 \nL 581 -1331 \nL 581 3500 \nL 1159 3500 \nL 1159 2969 \nQ 1341 3281 1617 3432 \nQ 1894 3584 2278 3584 \nQ 2916 3584 3314 3078 \nQ 3713 2572 3713 1747 \nQ 3713 922 3314 415 \nQ 2916 -91 2278 -91 \nQ 1894 -91 1617 61 \nQ 1341 213 1159 525 \nz\nM 3116 1747 \nQ 3116 2381 2855 2742 \nQ 2594 3103 2138 3103 \nQ 1681 3103 1420 2742 \nQ 1159 2381 1159 1747 \nQ 1159 1113 1420 752 \nQ 1681 391 2138 391 \nQ 2594 391 2855 752 \nQ 3116 1113 3116 1747 \nz\n\" transform=\"scale(0.015625)\"/>\n       <path id=\"DejaVuSans-61\" d=\"M 2194 1759 \nQ 1497 1759 1228 1600 \nQ 959 1441 959 1056 \nQ 959 750 1161 570 \nQ 1363 391 1709 391 \nQ 2188 391 2477 730 \nQ 2766 1069 2766 1631 \nL 2766 1759 \nL 2194 1759 \nz\nM 3341 1997 \nL 3341 0 \nL 2766 0 \nL 2766 531 \nQ 2569 213 2275 61 \nQ 1981 -91 1556 -91 \nQ 1019 -91 701 211 \nQ 384 513 384 1019 \nQ 384 1609 779 1909 \nQ 1175 2209 1959 2209 \nL 2766 2209 \nL 2766 2266 \nQ 2766 2663 2505 2880 \nQ 2244 3097 1772 3097 \nQ 1472 3097 1187 3025 \nQ 903 2953 641 2809 \nL 641 3341 \nQ 956 3463 1253 3523 \nQ 1550 3584 1831 3584 \nQ 2591 3584 2966 3190 \nQ 3341 2797 3341 1997 \nz\n\" transform=\"scale(0.015625)\"/>\n       <path id=\"DejaVuSans-6c\" d=\"M 603 4863 \nL 1178 4863 \nL 1178 0 \nL 603 0 \nL 603 4863 \nz\n\" transform=\"scale(0.015625)\"/>\n       <path id=\"DejaVuSans-5f\" d=\"M 3263 -1063 \nL 3263 -1509 \nL -63 -1509 \nL -63 -1063 \nL 3263 -1063 \nz\n\" transform=\"scale(0.015625)\"/>\n       <path id=\"DejaVuSans-6e\" d=\"M 3513 2113 \nL 3513 0 \nL 2938 0 \nL 2938 2094 \nQ 2938 2591 2744 2837 \nQ 2550 3084 2163 3084 \nQ 1697 3084 1428 2787 \nQ 1159 2491 1159 1978 \nL 1159 0 \nL 581 0 \nL 581 3500 \nL 1159 3500 \nL 1159 2956 \nQ 1366 3272 1645 3428 \nQ 1925 3584 2291 3584 \nQ 2894 3584 3203 3211 \nQ 3513 2838 3513 2113 \nz\n\" transform=\"scale(0.015625)\"/>\n       <path id=\"DejaVuSans-67\" d=\"M 2906 1791 \nQ 2906 2416 2648 2759 \nQ 2391 3103 1925 3103 \nQ 1463 3103 1205 2759 \nQ 947 2416 947 1791 \nQ 947 1169 1205 825 \nQ 1463 481 1925 481 \nQ 2391 481 2648 825 \nQ 2906 1169 2906 1791 \nz\nM 3481 434 \nQ 3481 -459 3084 -895 \nQ 2688 -1331 1869 -1331 \nQ 1566 -1331 1297 -1286 \nQ 1028 -1241 775 -1147 \nL 775 -588 \nQ 1028 -725 1275 -790 \nQ 1522 -856 1778 -856 \nQ 2344 -856 2625 -561 \nQ 2906 -266 2906 331 \nL 2906 616 \nQ 2728 306 2450 153 \nQ 2172 0 1784 0 \nQ 1141 0 747 490 \nQ 353 981 353 1791 \nQ 353 2603 747 3093 \nQ 1141 3584 1784 3584 \nQ 2172 3584 2450 3431 \nQ 2728 3278 2906 2969 \nL 2906 3500 \nL 3481 3500 \nL 3481 434 \nz\n\" transform=\"scale(0.015625)\"/>\n       <path id=\"DejaVuSans-74\" d=\"M 1172 4494 \nL 1172 3500 \nL 2356 3500 \nL 2356 3053 \nL 1172 3053 \nL 1172 1153 \nQ 1172 725 1289 603 \nQ 1406 481 1766 481 \nL 2356 481 \nL 2356 0 \nL 1766 0 \nQ 1100 0 847 248 \nQ 594 497 594 1153 \nL 594 3053 \nL 172 3053 \nL 172 3500 \nL 594 3500 \nL 594 4494 \nL 1172 4494 \nz\n\" transform=\"scale(0.015625)\"/>\n       <path id=\"DejaVuSans-68\" d=\"M 3513 2113 \nL 3513 0 \nL 2938 0 \nL 2938 2094 \nQ 2938 2591 2744 2837 \nQ 2550 3084 2163 3084 \nQ 1697 3084 1428 2787 \nQ 1159 2491 1159 1978 \nL 1159 0 \nL 581 0 \nL 581 4863 \nL 1159 4863 \nL 1159 2956 \nQ 1366 3272 1645 3428 \nQ 1925 3584 2291 3584 \nQ 2894 3584 3203 3211 \nQ 3513 2838 3513 2113 \nz\n\" transform=\"scale(0.015625)\"/>\n      </defs>\n      <use xlink:href=\"#DejaVuSans-73\"/>\n      <use xlink:href=\"#DejaVuSans-65\" x=\"52.099609\"/>\n      <use xlink:href=\"#DejaVuSans-70\" x=\"113.623047\"/>\n      <use xlink:href=\"#DejaVuSans-61\" x=\"177.099609\"/>\n      <use xlink:href=\"#DejaVuSans-6c\" x=\"238.378906\"/>\n      <use xlink:href=\"#DejaVuSans-5f\" x=\"266.162109\"/>\n      <use xlink:href=\"#DejaVuSans-6c\" x=\"316.162109\"/>\n      <use xlink:href=\"#DejaVuSans-65\" x=\"343.945312\"/>\n      <use xlink:href=\"#DejaVuSans-6e\" x=\"405.46875\"/>\n      <use xlink:href=\"#DejaVuSans-67\" x=\"468.847656\"/>\n      <use xlink:href=\"#DejaVuSans-74\" x=\"532.324219\"/>\n      <use xlink:href=\"#DejaVuSans-68\" x=\"571.533203\"/>\n     </g>\n    </g>\n   </g>\n   <g id=\"matplotlib.axis_2\">\n    <g id=\"ytick_1\">\n     <g id=\"line2d_9\">\n      <defs>\n       <path id=\"m461144e36a\" d=\"M 0 0 \nL -3.5 0 \n\" style=\"stroke: #000000; stroke-width: 0.8\"/>\n      </defs>\n      <g>\n       <use xlink:href=\"#m461144e36a\" x=\"44.059375\" y=\"262.999219\" style=\"stroke: #000000; stroke-width: 0.8\"/>\n      </g>\n     </g>\n     <g id=\"text_10\">\n      <!-- 2.0 -->\n      <g transform=\"translate(21.15625 266.798437) scale(0.1 -0.1)\">\n       <defs>\n        <path id=\"DejaVuSans-32\" d=\"M 1228 531 \nL 3431 531 \nL 3431 0 \nL 469 0 \nL 469 531 \nQ 828 903 1448 1529 \nQ 2069 2156 2228 2338 \nQ 2531 2678 2651 2914 \nQ 2772 3150 2772 3378 \nQ 2772 3750 2511 3984 \nQ 2250 4219 1831 4219 \nQ 1534 4219 1204 4116 \nQ 875 4013 500 3803 \nL 500 4441 \nQ 881 4594 1212 4672 \nQ 1544 4750 1819 4750 \nQ 2544 4750 2975 4387 \nQ 3406 4025 3406 3419 \nQ 3406 3131 3298 2873 \nQ 3191 2616 2906 2266 \nQ 2828 2175 2409 1742 \nQ 1991 1309 1228 531 \nz\n\" transform=\"scale(0.015625)\"/>\n       </defs>\n       <use xlink:href=\"#DejaVuSans-32\"/>\n       <use xlink:href=\"#DejaVuSans-2e\" x=\"63.623047\"/>\n       <use xlink:href=\"#DejaVuSans-30\" x=\"95.410156\"/>\n      </g>\n     </g>\n    </g>\n    <g id=\"ytick_2\">\n     <g id=\"line2d_10\">\n      <g>\n       <use xlink:href=\"#m461144e36a\" x=\"44.059375\" y=\"212.599219\" style=\"stroke: #000000; stroke-width: 0.8\"/>\n      </g>\n     </g>\n     <g id=\"text_11\">\n      <!-- 2.5 -->\n      <g transform=\"translate(21.15625 216.398437) scale(0.1 -0.1)\">\n       <use xlink:href=\"#DejaVuSans-32\"/>\n       <use xlink:href=\"#DejaVuSans-2e\" x=\"63.623047\"/>\n       <use xlink:href=\"#DejaVuSans-35\" x=\"95.410156\"/>\n      </g>\n     </g>\n    </g>\n    <g id=\"ytick_3\">\n     <g id=\"line2d_11\">\n      <g>\n       <use xlink:href=\"#m461144e36a\" x=\"44.059375\" y=\"162.199219\" style=\"stroke: #000000; stroke-width: 0.8\"/>\n      </g>\n     </g>\n     <g id=\"text_12\">\n      <!-- 3.0 -->\n      <g transform=\"translate(21.15625 165.998437) scale(0.1 -0.1)\">\n       <defs>\n        <path id=\"DejaVuSans-33\" d=\"M 2597 2516 \nQ 3050 2419 3304 2112 \nQ 3559 1806 3559 1356 \nQ 3559 666 3084 287 \nQ 2609 -91 1734 -91 \nQ 1441 -91 1130 -33 \nQ 819 25 488 141 \nL 488 750 \nQ 750 597 1062 519 \nQ 1375 441 1716 441 \nQ 2309 441 2620 675 \nQ 2931 909 2931 1356 \nQ 2931 1769 2642 2001 \nQ 2353 2234 1838 2234 \nL 1294 2234 \nL 1294 2753 \nL 1863 2753 \nQ 2328 2753 2575 2939 \nQ 2822 3125 2822 3475 \nQ 2822 3834 2567 4026 \nQ 2313 4219 1838 4219 \nQ 1578 4219 1281 4162 \nQ 984 4106 628 3988 \nL 628 4550 \nQ 988 4650 1302 4700 \nQ 1616 4750 1894 4750 \nQ 2613 4750 3031 4423 \nQ 3450 4097 3450 3541 \nQ 3450 3153 3228 2886 \nQ 3006 2619 2597 2516 \nz\n\" transform=\"scale(0.015625)\"/>\n       </defs>\n       <use xlink:href=\"#DejaVuSans-33\"/>\n       <use xlink:href=\"#DejaVuSans-2e\" x=\"63.623047\"/>\n       <use xlink:href=\"#DejaVuSans-30\" x=\"95.410156\"/>\n      </g>\n     </g>\n    </g>\n    <g id=\"ytick_4\">\n     <g id=\"line2d_12\">\n      <g>\n       <use xlink:href=\"#m461144e36a\" x=\"44.059375\" y=\"111.799219\" style=\"stroke: #000000; stroke-width: 0.8\"/>\n      </g>\n     </g>\n     <g id=\"text_13\">\n      <!-- 3.5 -->\n      <g transform=\"translate(21.15625 115.598437) scale(0.1 -0.1)\">\n       <use xlink:href=\"#DejaVuSans-33\"/>\n       <use xlink:href=\"#DejaVuSans-2e\" x=\"63.623047\"/>\n       <use xlink:href=\"#DejaVuSans-35\" x=\"95.410156\"/>\n      </g>\n     </g>\n    </g>\n    <g id=\"ytick_5\">\n     <g id=\"line2d_13\">\n      <g>\n       <use xlink:href=\"#m461144e36a\" x=\"44.059375\" y=\"61.399219\" style=\"stroke: #000000; stroke-width: 0.8\"/>\n      </g>\n     </g>\n     <g id=\"text_14\">\n      <!-- 4.0 -->\n      <g transform=\"translate(21.15625 65.198437) scale(0.1 -0.1)\">\n       <use xlink:href=\"#DejaVuSans-34\"/>\n       <use xlink:href=\"#DejaVuSans-2e\" x=\"63.623047\"/>\n       <use xlink:href=\"#DejaVuSans-30\" x=\"95.410156\"/>\n      </g>\n     </g>\n    </g>\n    <g id=\"ytick_6\">\n     <g id=\"line2d_14\">\n      <g>\n       <use xlink:href=\"#m461144e36a\" x=\"44.059375\" y=\"10.999219\" style=\"stroke: #000000; stroke-width: 0.8\"/>\n      </g>\n     </g>\n     <g id=\"text_15\">\n      <!-- 4.5 -->\n      <g transform=\"translate(21.15625 14.798438) scale(0.1 -0.1)\">\n       <use xlink:href=\"#DejaVuSans-34\"/>\n       <use xlink:href=\"#DejaVuSans-2e\" x=\"63.623047\"/>\n       <use xlink:href=\"#DejaVuSans-35\" x=\"95.410156\"/>\n      </g>\n     </g>\n    </g>\n    <g id=\"text_16\">\n     <!-- sepal_width -->\n     <g transform=\"translate(14.798437 171.629062) rotate(-90) scale(0.1 -0.1)\">\n      <defs>\n       <path id=\"DejaVuSans-77\" d=\"M 269 3500 \nL 844 3500 \nL 1563 769 \nL 2278 3500 \nL 2956 3500 \nL 3675 769 \nL 4391 3500 \nL 4966 3500 \nL 4050 0 \nL 3372 0 \nL 2619 2869 \nL 1863 0 \nL 1184 0 \nL 269 3500 \nz\n\" transform=\"scale(0.015625)\"/>\n       <path id=\"DejaVuSans-69\" d=\"M 603 3500 \nL 1178 3500 \nL 1178 0 \nL 603 0 \nL 603 3500 \nz\nM 603 4863 \nL 1178 4863 \nL 1178 4134 \nL 603 4134 \nL 603 4863 \nz\n\" transform=\"scale(0.015625)\"/>\n       <path id=\"DejaVuSans-64\" d=\"M 2906 2969 \nL 2906 4863 \nL 3481 4863 \nL 3481 0 \nL 2906 0 \nL 2906 525 \nQ 2725 213 2448 61 \nQ 2172 -91 1784 -91 \nQ 1150 -91 751 415 \nQ 353 922 353 1747 \nQ 353 2572 751 3078 \nQ 1150 3584 1784 3584 \nQ 2172 3584 2448 3432 \nQ 2725 3281 2906 2969 \nz\nM 947 1747 \nQ 947 1113 1208 752 \nQ 1469 391 1925 391 \nQ 2381 391 2643 752 \nQ 2906 1113 2906 1747 \nQ 2906 2381 2643 2742 \nQ 2381 3103 1925 3103 \nQ 1469 3103 1208 2742 \nQ 947 2381 947 1747 \nz\n\" transform=\"scale(0.015625)\"/>\n      </defs>\n      <use xlink:href=\"#DejaVuSans-73\"/>\n      <use xlink:href=\"#DejaVuSans-65\" x=\"52.099609\"/>\n      <use xlink:href=\"#DejaVuSans-70\" x=\"113.623047\"/>\n      <use xlink:href=\"#DejaVuSans-61\" x=\"177.099609\"/>\n      <use xlink:href=\"#DejaVuSans-6c\" x=\"238.378906\"/>\n      <use xlink:href=\"#DejaVuSans-5f\" x=\"266.162109\"/>\n      <use xlink:href=\"#DejaVuSans-77\" x=\"316.162109\"/>\n      <use xlink:href=\"#DejaVuSans-69\" x=\"397.949219\"/>\n      <use xlink:href=\"#DejaVuSans-64\" x=\"425.732422\"/>\n      <use xlink:href=\"#DejaVuSans-74\" x=\"489.208984\"/>\n      <use xlink:href=\"#DejaVuSans-68\" x=\"528.417969\"/>\n     </g>\n    </g>\n   </g>\n   <g id=\"patch_3\">\n    <path d=\"M 44.059375 275.095219 \nL 44.059375 8.983219 \n\" style=\"fill: none; stroke: #000000; stroke-width: 0.8; stroke-linejoin: miter; stroke-linecap: square\"/>\n   </g>\n   <g id=\"patch_4\">\n    <path d=\"M 401.179375 275.095219 \nL 401.179375 8.983219 \n\" style=\"fill: none; stroke: #000000; stroke-width: 0.8; stroke-linejoin: miter; stroke-linecap: square\"/>\n   </g>\n   <g id=\"patch_5\">\n    <path d=\"M 44.059375 275.095219 \nL 401.179375 275.095219 \n\" style=\"fill: none; stroke: #000000; stroke-width: 0.8; stroke-linejoin: miter; stroke-linecap: square\"/>\n   </g>\n   <g id=\"patch_6\">\n    <path d=\"M 44.059375 8.983219 \nL 401.179375 8.983219 \n\" style=\"fill: none; stroke: #000000; stroke-width: 0.8; stroke-linejoin: miter; stroke-linecap: square\"/>\n   </g>\n  </g>\n </g>\n <defs>\n  <clipPath id=\"pd3c6c2c55f\">\n   <rect x=\"44.059375\" y=\"8.983219\" width=\"357.12\" height=\"266.112\"/>\n  </clipPath>\n </defs>\n</svg>\n",
      "text/plain": [
       "<Figure size 640x480 with 1 Axes>"
      ]
     },
     "metadata": {},
     "output_type": "display_data"
    }
   ],
   "source": [
    "sns.scatterplot(x=\"sepal_length\", y=\"sepal_width\", data=iris);"
   ]
  },
  {
   "cell_type": "code",
   "execution_count": 5,
   "metadata": {},
   "outputs": [
    {
     "name": "stdout",
     "output_type": "stream",
     "text": [
      "3\n"
     ]
    }
   ],
   "source": [
    "print(1+2)"
   ]
  },
  {
   "cell_type": "markdown",
   "metadata": {},
   "source": [
    "## Math Jax3\n",
    "\n",
    "A random variable $X$ is continuous if its distribution function $F(X) = P(X \\leq x)$ can be written as\n",
    "\n",
    "$$F(X) = \\int_x^\\infty f(u) du$$\n",
    "\n",
    "for some integrable $f:R \\to [0, \\infty)$. The function  is called the probability density function of the continuous random variable . For instance, the probability density function of the normal distribution is\n",
    "\n",
    "\n",
    "$$\n",
    "\\begin{bmatrix} y_1 \\\\ y_2 \\\\ \\vdots \\\\ y_t \\\\ \\vdots \\\\ y_N \\end{bmatrix} = \\begin{bmatrix} 1 & x_{12} & \\cdots & x_{1k} \\\\ 1 & x_{22} & \\cdots & x_{2k} \\\\ \\vdots & \\vdots & \\vdots \\\\ 1 & x_{t2} & \\cdots & x_{tk} \\\\ \\vdots & \\vdots & \\vdots \\\\ 1 & x_{N2} & \\cdots & x_{Nk} \\end{bmatrix} \\begin{bmatrix} \\beta_1 \\\\ \\beta_2 \\\\ \\vdots \\\\ \\beta_t \\\\ \\vdots \\\\ \\beta_k \\end{bmatrix} + \\begin{bmatrix} u_1 \\\\ u_2 \\\\ \\vdots \\\\ u_t \\\\ \\vdots \\\\ u_N \\end{bmatrix}\n",
    "$$"
   ]
  },
  {
   "cell_type": "markdown",
   "metadata": {},
   "source": []
  },
  {
   "cell_type": "markdown",
   "metadata": {},
   "source": [
    "## Math Jax3\n",
    "\n",
    "A random variable $X$ is continuous if its distribution function $F(X) = P(X \\leq x)$ can be written as\n",
    "\n",
    "$$F(X) = \\int_x^\\infty f(u) du$$\n",
    "\n",
    "for some integrable $f:R \\to [0, \\infty)$. The function  is called the probability density function of the continuous random variable . For instance, the probability density function of the normal distribution is\n",
    "\n",
    "\n",
    "$$\n",
    "\\begin{bmatrix} y_1 \\\\ y_2 \\\\ \\vdots \\\\ y_t \\\\ \\vdots \\\\ y_N \\end{bmatrix} = \\begin{bmatrix} 1 & x_{12} & \\cdots & x_{1k} \\\\ 1 & x_{22} & \\cdots & x_{2k} \\\\ \\vdots & \\vdots & \\vdots \\\\ 1 & x_{t2} & \\cdots & x_{tk} \\\\ \\vdots & \\vdots & \\vdots \\\\ 1 & x_{N2} & \\cdots & x_{Nk} \\end{bmatrix} \\begin{bmatrix} \\beta_1 \\\\ \\beta_2 \\\\ \\vdots \\\\ \\beta_t \\\\ \\vdots \\\\ \\beta_k \\end{bmatrix} + \\begin{bmatrix} u_1 \\\\ u_2 \\\\ \\vdots \\\\ u_t \\\\ \\vdots \\\\ u_N \\end{bmatrix}\n",
    "$$"
   ]
  },
  {
   "cell_type": "markdown",
   "metadata": {},
   "source": [
    "## Math Jax3\n",
    "\n",
    "A random variable $X$ is continuous if its distribution function $F(X) = P(X \\leq x)$ can be written as\n",
    "\n",
    "$$F(X) = \\int_x^\\infty f(u) du$$\n",
    "\n",
    "for some integrable $f:R \\to [0, \\infty)$. The function  is called the probability density function of the continuous random variable . For instance, the probability density function of the normal distribution is\n",
    "\n",
    "\n",
    "$$\n",
    "\\begin{bmatrix} y_1 \\\\ y_2 \\\\ \\vdots \\\\ y_t \\\\ \\vdots \\\\ y_N \\end{bmatrix} = \\begin{bmatrix} 1 & x_{12} & \\cdots & x_{1k} \\\\ 1 & x_{22} & \\cdots & x_{2k} \\\\ \\vdots & \\vdots & \\vdots \\\\ 1 & x_{t2} & \\cdots & x_{tk} \\\\ \\vdots & \\vdots & \\vdots \\\\ 1 & x_{N2} & \\cdots & x_{Nk} \\end{bmatrix} \\begin{bmatrix} \\beta_1 \\\\ \\beta_2 \\\\ \\vdots \\\\ \\beta_t \\\\ \\vdots \\\\ \\beta_k \\end{bmatrix} + \\begin{bmatrix} u_1 \\\\ u_2 \\\\ \\vdots \\\\ u_t \\\\ \\vdots \\\\ u_N \\end{bmatrix}\n",
    "$$"
   ]
  },
  {
   "cell_type": "markdown",
   "metadata": {},
   "source": []
  }
 ],
 "metadata": {
  "kernelspec": {
   "display_name": "Python 3.9.5 ('myvenv': venv)",
   "language": "python",
   "name": "python3"
  },
  "language_info": {
   "codemirror_mode": {
    "name": "ipython",
    "version": 3
   },
   "file_extension": ".py",
   "mimetype": "text/x-python",
   "name": "python",
   "nbconvert_exporter": "python",
   "pygments_lexer": "ipython3",
   "version": "3.9.5"
  },
  "vscode": {
   "interpreter": {
    "hash": "4a3c54eb17980b08ca07e25221d4c9ce63fd03d61d790ff7fad827bf918d92f1"
   }
  }
 },
 "nbformat": 4,
 "nbformat_minor": 2
}
